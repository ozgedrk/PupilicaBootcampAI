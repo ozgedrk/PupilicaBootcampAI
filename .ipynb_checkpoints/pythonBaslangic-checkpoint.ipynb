{
 "cells": [
  {
   "cell_type": "code",
   "execution_count": 71,
   "metadata": {
    "colab": {
     "base_uri": "https://localhost:8080/"
    },
    "id": "HtmNR9TN1nqv",
    "outputId": "f2684a8e-1493-4cb3-b3f6-4222c7ca3813"
   },
   "outputs": [
    {
     "name": "stdout",
     "output_type": "stream",
     "text": [
      "10\n",
      "15\n"
     ]
    }
   ],
   "source": [
    "# bu benim ilk comment im\n",
    "# degisken - variable\n",
    "# integer(tamsayi) degisken- variable\n",
    "tamsayi_degiskeni = 10 # 10 tamsayisi icin bir degisken tanimladim, bu degiskenin ismi tamsayi_degiskeni\n",
    "tamsayi_degiskeni2 = 15\n",
    "print(tamsayi_degiskeni)\n",
    "print(tamsayi_degiskeni2)"
   ]
  },
  {
   "cell_type": "markdown",
   "metadata": {
    "id": "UgIr5zOJ4MO5"
   },
   "source": [
    "**Kesirli Sayi**\n",
    "\n"
   ]
  },
  {
   "cell_type": "code",
   "execution_count": 72,
   "metadata": {
    "colab": {
     "base_uri": "https://localhost:8080/"
    },
    "id": "QPdI2Mxy4Gfe",
    "outputId": "a3ecc3b8-1a6c-4011-f9d7-fe794ac59c7f"
   },
   "outputs": [
    {
     "name": "stdout",
     "output_type": "stream",
     "text": [
      "10.5\n"
     ]
    }
   ],
   "source": [
    "# kesirli sayi - float\n",
    "kesirlisayi_degisken = 10.5\n",
    "print(kesirlisayi_degisken)"
   ]
  },
  {
   "cell_type": "markdown",
   "metadata": {
    "id": "uIZxrCOA41yE"
   },
   "source": [
    "4 işlem özelliği"
   ]
  },
  {
   "cell_type": "code",
   "execution_count": 73,
   "metadata": {
    "colab": {
     "base_uri": "https://localhost:8080/"
    },
    "id": "s2u8pNyM47--",
    "outputId": "c6fe7231-967e-47cd-ed89-d21784393415"
   },
   "outputs": [
    {
     "name": "stdout",
     "output_type": "stream",
     "text": [
      "25\n",
      "150\n",
      "-5\n",
      "0.6666666666666666\n"
     ]
    }
   ],
   "source": [
    "toplam = tamsayi_degiskeni + tamsayi_degiskeni2\n",
    "carpma = tamsayi_degiskeni * tamsayi_degiskeni2\n",
    "cikarma = tamsayi_degiskeni - tamsayi_degiskeni2\n",
    "bolme = tamsayi_degiskeni / tamsayi_degiskeni2\n",
    "print(toplam)\n",
    "print(carpma)\n",
    "print(cikarma)\n",
    "print(bolme)"
   ]
  },
  {
   "cell_type": "code",
   "execution_count": 74,
   "metadata": {
    "colab": {
     "base_uri": "https://localhost:8080/"
    },
    "id": "NehQ0uZt5Zxz",
    "outputId": "5ebd4289-d7d6-4066-ed3c-84e9213edf50"
   },
   "outputs": [
    {
     "name": "stdout",
     "output_type": "stream",
     "text": [
      "hello world\n"
     ]
    }
   ],
   "source": [
    "metin = \"hello world\" # string - metin\n",
    "print(metin)"
   ]
  },
  {
   "cell_type": "code",
   "execution_count": 75,
   "metadata": {
    "colab": {
     "base_uri": "https://localhost:8080/"
    },
    "id": "WXSyIzeO506Q",
    "outputId": "ff439aa3-5dd0-4da9-d053-4e05ed48bcd3"
   },
   "outputs": [
    {
     "data": {
      "text/plain": [
       "str"
      ]
     },
     "execution_count": 75,
     "metadata": {},
     "output_type": "execute_result"
    }
   ],
   "source": [
    "type(metin)"
   ]
  },
  {
   "cell_type": "code",
   "execution_count": 76,
   "metadata": {
    "colab": {
     "base_uri": "https://localhost:8080/",
     "height": 35
    },
    "id": "EFV98CHN59eq",
    "outputId": "b944836c-4ee4-4501-f9a2-fed2ad0cd384"
   },
   "outputs": [
    {
     "data": {
      "text/plain": [
       "'merhaba dunya'"
      ]
     },
     "execution_count": 76,
     "metadata": {},
     "output_type": "execute_result"
    }
   ],
   "source": [
    "metin1 = \"merhaba\"\n",
    "bosluk = \" \"\n",
    "metin2 = \"dunya\"\n",
    "metin1 + bosluk + metin2"
   ]
  },
  {
   "cell_type": "code",
   "execution_count": 77,
   "metadata": {
    "colab": {
     "base_uri": "https://localhost:8080/"
    },
    "id": "3Fh23nGp6T7w",
    "outputId": "04d62e6f-6834-4378-f1d0-a060c73c81dc"
   },
   "outputs": [
    {
     "name": "stdout",
     "output_type": "stream",
     "text": [
      "elma: 10 tl, armut: 20 tl\n",
      "elma: 10 tl, armut: 20 tl\n"
     ]
    }
   ],
   "source": [
    "# f string\n",
    "# elma: 10 tl\n",
    "# armut: 20 tl\n",
    "elma_degisken = 10\n",
    "armut_degisken = 20\n",
    "print(f\"elma: {elma_degisken} tl, armut: {armut_degisken} tl\")\n",
    "print(\"elma: {} tl, armut: {} tl\".format(elma_degisken, armut_degisken))\n",
    "# elma: {elma_degisken} tl, armut: {armut_degisken} tl\n",
    "# elma: 10 tl, armut: 20 tl"
   ]
  },
  {
   "cell_type": "markdown",
   "metadata": {
    "id": "VM2UJ1Sp74cn"
   },
   "source": [
    "Python Syntax"
   ]
  },
  {
   "cell_type": "code",
   "execution_count": 78,
   "metadata": {
    "colab": {
     "base_uri": "https://localhost:8080/"
    },
    "id": "hVPEpZkZ8iYa",
    "outputId": "0ce16a97-f0a0-49c8-e2da-0fffc9ae45fd"
   },
   "outputs": [
    {
     "name": "stdout",
     "output_type": "stream",
     "text": [
      "6\n",
      "7\n"
     ]
    }
   ],
   "source": [
    "temel = 6\n",
    "TEMEL = 7\n",
    "print(temel)\n",
    "print(TEMEL)"
   ]
  },
  {
   "cell_type": "code",
   "execution_count": 79,
   "metadata": {
    "colab": {
     "base_uri": "https://localhost:8080/",
     "height": 35
    },
    "id": "i0jwLc9G8vE3",
    "outputId": "43bd7363-e080-44f8-9400-a0c6399d77a1"
   },
   "outputs": [
    {
     "data": {
      "text/plain": [
       "'\\n istedigimiz her seyi yazariz kimsade bize karisamaz\\n'"
      ]
     },
     "execution_count": 79,
     "metadata": {},
     "output_type": "execute_result"
    }
   ],
   "source": [
    "# COMMENT\n",
    "\"\"\"\n",
    " istedigimiz her seyi yazariz kimsade bize karisamaz\n",
    "\"\"\""
   ]
  },
  {
   "cell_type": "code",
   "execution_count": 80,
   "metadata": {
    "colab": {
     "base_uri": "https://localhost:8080/"
    },
    "id": "mqOFjRDG9DjX",
    "outputId": "86794d1e-5850-4f52-a816-d7f5646cec27"
   },
   "outputs": [
    {
     "name": "stdout",
     "output_type": "stream",
     "text": [
      "5\n"
     ]
    }
   ],
   "source": [
    "print(5) # print = build-in function"
   ]
  },
  {
   "cell_type": "code",
   "execution_count": 81,
   "metadata": {
    "id": "eplTJJWZ9IHq"
   },
   "outputs": [],
   "source": [
    "# print = 10"
   ]
  },
  {
   "cell_type": "code",
   "execution_count": 82,
   "metadata": {
    "colab": {
     "base_uri": "https://localhost:8080/"
    },
    "id": "2YBLa5lD9N1J",
    "outputId": "a459eae9-21b4-4e7d-9a71-5f17b9583e00"
   },
   "outputs": [
    {
     "name": "stdout",
     "output_type": "stream",
     "text": [
      "5\n"
     ]
    }
   ],
   "source": [
    "print(5)"
   ]
  },
  {
   "cell_type": "markdown",
   "metadata": {
    "id": "V4Zc2MOM9zof"
   },
   "source": [
    "**Fonksiyonlar**"
   ]
  },
  {
   "cell_type": "markdown",
   "metadata": {
    "id": "Uoht1BZ--lzP"
   },
   "source": [
    "\n",
    "*   Kullanıcı Tanımlı Fonksiyonlar (User Defined Function)\n",
    "\n",
    "\n",
    "\n"
   ]
  },
  {
   "cell_type": "code",
   "execution_count": 83,
   "metadata": {
    "colab": {
     "base_uri": "https://localhost:8080/"
    },
    "id": "nIyFrYXh93oz",
    "outputId": "b1dd564d-bdd0-4c42-ca38-05bdcd9998e8"
   },
   "outputs": [
    {
     "name": "stdout",
     "output_type": "stream",
     "text": [
      "28.26\n"
     ]
    }
   ],
   "source": [
    "# dairenin alanını hesaplamak pi*r^2\n",
    "pi = 3.14\n",
    "daire_yaricapi = 3\n",
    "daire_alani = pi*(daire_yaricapi**2)\n",
    "print(daire_alani)"
   ]
  },
  {
   "cell_type": "code",
   "execution_count": 84,
   "metadata": {
    "id": "x4ZRWg4i_L4L"
   },
   "outputs": [],
   "source": [
    "def daireAlaniHesapla(daire_yaricapi = 5): # func ismi yazarken islevi belirtmek lazim\n",
    "  \"\"\"\n",
    "    Description: Bu fonksiyon daire alanini hesaplar.\n",
    "    input parameters: dairenin yaricapi (daire_yaricapi)\n",
    "    output: dairenin alani (daire_alani)\n",
    "  \"\"\"\n",
    "  PI = 3.14\n",
    "  daire_alani = PI*(daire_yaricapi**2)\n",
    "  print(f\"Daire Alani: {daire_alani}\")\n",
    "  return daire_alani"
   ]
  },
  {
   "cell_type": "code",
   "execution_count": 85,
   "metadata": {
    "colab": {
     "base_uri": "https://localhost:8080/"
    },
    "id": "pGo8or___lQ1",
    "outputId": "3e8932cd-cadd-4668-844f-fc510d13d0c7"
   },
   "outputs": [
    {
     "name": "stdout",
     "output_type": "stream",
     "text": [
      "Daire Alani: 78.5\n"
     ]
    },
    {
     "data": {
      "text/plain": [
       "78.5"
      ]
     },
     "execution_count": 85,
     "metadata": {},
     "output_type": "execute_result"
    }
   ],
   "source": [
    "daireAlaniHesapla()"
   ]
  },
  {
   "cell_type": "code",
   "execution_count": 86,
   "metadata": {
    "colab": {
     "base_uri": "https://localhost:8080/"
    },
    "id": "DMN-qFAPG71L",
    "outputId": "64316227-3de6-4696-9b01-eb26b2658a2d"
   },
   "outputs": [
    {
     "name": "stdin",
     "output_type": "stream",
     "text": [
      "Bir daire yari capi girin:  8\n"
     ]
    },
    {
     "name": "stdout",
     "output_type": "stream",
     "text": [
      "girilen deger: 8 ve bu degerin type: <class 'str'>\n",
      "<class 'int'>\n",
      "Daire Alani: 200.96\n"
     ]
    },
    {
     "data": {
      "text/plain": [
       "200.96"
      ]
     },
     "execution_count": 86,
     "metadata": {},
     "output_type": "execute_result"
    }
   ],
   "source": [
    "user_input  = input(\"Bir daire yari capi girin: \")\n",
    "print(f\"girilen deger: {user_input} ve bu degerin type: {type(user_input)}\")\n",
    "user_input_int = int(user_input)\n",
    "print(f\"{type(user_input_int)}\")\n",
    "daireAlaniHesapla(user_input_int)"
   ]
  },
  {
   "cell_type": "code",
   "execution_count": 87,
   "metadata": {
    "colab": {
     "base_uri": "https://localhost:8080/"
    },
    "id": "34YHBW0gIcSk",
    "outputId": "4d1b74be-cb64-45ad-c56a-387b0751e204"
   },
   "outputs": [
    {
     "name": "stdout",
     "output_type": "stream",
     "text": [
      "Daire Alani: 78.5\n",
      "Daire Alani: 28.26\n",
      "106.76\n"
     ]
    }
   ],
   "source": [
    "daire_alani_hesaplanan1 = daireAlaniHesapla(5)\n",
    "daire_alani_hesaplanan2 = daireAlaniHesapla(3)\n",
    "print(daire_alani_hesaplanan1 + daire_alani_hesaplanan2)"
   ]
  },
  {
   "cell_type": "code",
   "execution_count": 88,
   "metadata": {
    "id": "CnQza9IFKPtq"
   },
   "outputs": [],
   "source": [
    "# daire cevresi hesaplama: 2*pi*r\n",
    "def daireCevresiHesapla(r):\n",
    "  PI = 3.14\n",
    "  daire_cevresi = 2*PI*r\n",
    "  return daire_cevresi"
   ]
  },
  {
   "cell_type": "code",
   "execution_count": 89,
   "metadata": {
    "colab": {
     "base_uri": "https://localhost:8080/"
    },
    "id": "ow8UO3SUMptb",
    "outputId": "cee24c19-ebb1-41a4-9372-959358547757"
   },
   "outputs": [
    {
     "name": "stdout",
     "output_type": "stream",
     "text": [
      "hesapladigimiz daire ccevresi: 31.400000000000002\n"
     ]
    }
   ],
   "source": [
    "daire_cevresi_hesaplanan = daireCevresiHesapla(5)\n",
    "print(f\"hesapladigimiz daire ccevresi: {daire_cevresi_hesaplanan}\")"
   ]
  },
  {
   "cell_type": "markdown",
   "metadata": {},
   "source": [
    "#### Veri Tipi: LISTE"
   ]
  },
  {
   "cell_type": "code",
   "execution_count": 90,
   "metadata": {},
   "outputs": [
    {
     "data": {
      "text/plain": [
       "['sut', 'yumurta', 'ekmek']"
      ]
     },
     "execution_count": 90,
     "metadata": {},
     "output_type": "execute_result"
    }
   ],
   "source": [
    "liste = [\"sut\", \"yumurta\", \"ekmek\"]\n",
    "liste"
   ]
  },
  {
   "cell_type": "code",
   "execution_count": 91,
   "metadata": {},
   "outputs": [
    {
     "data": {
      "text/plain": [
       "[10, 20, 30]"
      ]
     },
     "execution_count": 91,
     "metadata": {},
     "output_type": "execute_result"
    }
   ],
   "source": [
    "liste_fiyat = [10,20,30] \n",
    "liste_fiyat"
   ]
  },
  {
   "cell_type": "code",
   "execution_count": 92,
   "metadata": {},
   "outputs": [
    {
     "data": {
      "text/plain": [
       "list"
      ]
     },
     "execution_count": 92,
     "metadata": {},
     "output_type": "execute_result"
    }
   ],
   "source": [
    "type(liste_fiyat)"
   ]
  },
  {
   "cell_type": "code",
   "execution_count": 93,
   "metadata": {},
   "outputs": [],
   "source": [
    "hafta_liste = [\"pazartesi\", \"sali\", \"cars\", \"persembe\", \"cuma\",\"cumertesi\", \"pazar\"]"
   ]
  },
  {
   "cell_type": "code",
   "execution_count": 94,
   "metadata": {},
   "outputs": [
    {
     "name": "stdout",
     "output_type": "stream",
     "text": [
      "['pazartesi', 'sali', 'cars']\n",
      "['persembe', 'cuma', 'cumertesi', 'pazar']\n",
      "['persembe', 'cuma', 'cumertesi', 'pazar']\n",
      "['persembe', 'cuma', 'cumertesi', 'pazar']\n"
     ]
    }
   ],
   "source": [
    "print(hafta_liste[:3])\n",
    "print(hafta_liste[3:])\n",
    "print(hafta_liste[3:7])\n",
    "print(hafta_liste[-4:])"
   ]
  },
  {
   "cell_type": "code",
   "execution_count": 95,
   "metadata": {},
   "outputs": [
    {
     "data": {
      "text/plain": [
       "[1, 3, 2, 4, 6, 5]"
      ]
     },
     "execution_count": 95,
     "metadata": {},
     "output_type": "execute_result"
    }
   ],
   "source": [
    "###\n",
    "sayi_listesi = [1,3,2,4,6,5]\n",
    "sayi_listesi"
   ]
  },
  {
   "cell_type": "code",
   "execution_count": 96,
   "metadata": {},
   "outputs": [],
   "source": [
    "sayi_listesi.append(6)"
   ]
  },
  {
   "cell_type": "code",
   "execution_count": 97,
   "metadata": {},
   "outputs": [
    {
     "data": {
      "text/plain": [
       "[1, 3, 2, 4, 6, 5, 6]"
      ]
     },
     "execution_count": 97,
     "metadata": {},
     "output_type": "execute_result"
    }
   ],
   "source": [
    "sayi_listesi"
   ]
  },
  {
   "cell_type": "code",
   "execution_count": 98,
   "metadata": {},
   "outputs": [],
   "source": [
    "sayi_listesi.remove(6)"
   ]
  },
  {
   "cell_type": "code",
   "execution_count": 99,
   "metadata": {},
   "outputs": [
    {
     "data": {
      "text/plain": [
       "[1, 3, 2, 4, 5, 6]"
      ]
     },
     "execution_count": 99,
     "metadata": {},
     "output_type": "execute_result"
    }
   ],
   "source": [
    "sayi_listesi"
   ]
  },
  {
   "cell_type": "code",
   "execution_count": 100,
   "metadata": {},
   "outputs": [
    {
     "data": {
      "text/plain": [
       "[1, 2, 3, 4, 5, 6]"
      ]
     },
     "execution_count": 100,
     "metadata": {},
     "output_type": "execute_result"
    }
   ],
   "source": [
    "sorted(sayi_listesi)"
   ]
  },
  {
   "cell_type": "markdown",
   "metadata": {},
   "source": [
    "#### Veri Tipi: Tuple"
   ]
  },
  {
   "cell_type": "code",
   "execution_count": 101,
   "metadata": {},
   "outputs": [
    {
     "name": "stdout",
     "output_type": "stream",
     "text": [
      "5\n",
      "2\n",
      "(2, 3, 3, 3, 4, 5, 6)\n",
      "3\n"
     ]
    }
   ],
   "source": [
    "tuple_sayi = (1,2,3,3,3,4,5,6)\n",
    "print(tuple_sayi[-2])\n",
    "print(tuple_sayi[1])\n",
    "print(tuple_sayi[1:])\n",
    "print(tuple_sayi.count(3))  # tuple icerisinde bulunan istedigimiz elemani sayma"
   ]
  },
  {
   "cell_type": "markdown",
   "metadata": {},
   "source": [
    "#### Veri Tipi: Dictionary\n",
    "        anahtar-deger : key-value pair"
   ]
  },
  {
   "cell_type": "code",
   "execution_count": 102,
   "metadata": {},
   "outputs": [
    {
     "data": {
      "text/plain": [
       "{'anahtar': 10, 'key': 'ankara'}"
      ]
     },
     "execution_count": 102,
     "metadata": {},
     "output_type": "execute_result"
    }
   ],
   "source": [
    "dictionary = {\"anahtar\" : 10,\n",
    "              \"key\": \"ankara\"}\n",
    "dictionary"
   ]
  },
  {
   "cell_type": "code",
   "execution_count": 103,
   "metadata": {},
   "outputs": [],
   "source": [
    "sehirler_plakalar ={\n",
    "                        \"ankara\": 6,\n",
    "                        \"izmir\" : 35,\n",
    "                        \"istanul\": 34,\n",
    "                        \"kayseri\": 38\n",
    "}"
   ]
  },
  {
   "cell_type": "code",
   "execution_count": 104,
   "metadata": {},
   "outputs": [
    {
     "data": {
      "text/plain": [
       "dict_keys(['ankara', 'izmir', 'istanul', 'kayseri'])"
      ]
     },
     "execution_count": 104,
     "metadata": {},
     "output_type": "execute_result"
    }
   ],
   "source": [
    "sehirler_plakalar.keys()"
   ]
  },
  {
   "cell_type": "code",
   "execution_count": 105,
   "metadata": {},
   "outputs": [
    {
     "data": {
      "text/plain": [
       "dict_values([6, 35, 34, 38])"
      ]
     },
     "execution_count": 105,
     "metadata": {},
     "output_type": "execute_result"
    }
   ],
   "source": [
    "sehirler_plakalar.values()"
   ]
  },
  {
   "cell_type": "code",
   "execution_count": 106,
   "metadata": {},
   "outputs": [
    {
     "data": {
      "text/plain": [
       "35"
      ]
     },
     "execution_count": 106,
     "metadata": {},
     "output_type": "execute_result"
    }
   ],
   "source": [
    "sehirler_plakalar[\"izmir\"]"
   ]
  },
  {
   "cell_type": "code",
   "execution_count": 107,
   "metadata": {},
   "outputs": [
    {
     "data": {
      "text/plain": [
       "'\\nparameters = {\"weights\": [],\\n              \"bias\": [],\\n              \"learning_rate\": 0,\\n              \"model_name\": \"model1\"\\n             }\\nlist_parameters = []\\nlist_parameters.append(parameters)\\n\\n'"
      ]
     },
     "execution_count": 107,
     "metadata": {},
     "output_type": "execute_result"
    }
   ],
   "source": [
    "\"\"\"\n",
    "parameters = {\"weights\": [],\n",
    "              \"bias\": [],\n",
    "              \"learning_rate\": 0,\n",
    "              \"model_name\": \"model1\"\n",
    "             }\n",
    "list_parameters = []\n",
    "list_parameters.append(parameters)\n",
    "\n",
    "\"\"\""
   ]
  },
  {
   "cell_type": "markdown",
   "metadata": {},
   "source": [
    "#### Veri Tipleri Donusumleri"
   ]
  },
  {
   "cell_type": "code",
   "execution_count": 108,
   "metadata": {},
   "outputs": [],
   "source": [
    "metin = \"16\"\n",
    "kesirlisayi = 10.5\n",
    "tamsayi = 10"
   ]
  },
  {
   "cell_type": "code",
   "execution_count": 109,
   "metadata": {},
   "outputs": [
    {
     "name": "stdout",
     "output_type": "stream",
     "text": [
      "16\n",
      "<class 'int'>\n"
     ]
    }
   ],
   "source": [
    "# str -> int\n",
    "metin_int = int(metin)\n",
    "print(metin_int)\n",
    "print(type(metin_int))"
   ]
  },
  {
   "cell_type": "code",
   "execution_count": 110,
   "metadata": {},
   "outputs": [
    {
     "name": "stdout",
     "output_type": "stream",
     "text": [
      "10\n",
      "<class 'int'>\n"
     ]
    }
   ],
   "source": [
    "# float -> int\n",
    "kesirlisayi_int = int(kesirlisayi)\n",
    "print(kesirlisayi_int)\n",
    "print(type(kesirlisayi_int))"
   ]
  },
  {
   "cell_type": "code",
   "execution_count": 111,
   "metadata": {},
   "outputs": [
    {
     "data": {
      "text/plain": [
       "'10.5'"
      ]
     },
     "execution_count": 111,
     "metadata": {},
     "output_type": "execute_result"
    }
   ],
   "source": [
    "# float -> str\n",
    "kesirlisayi_str = str(kesirlisayi)\n",
    "kesirlisayi_str"
   ]
  },
  {
   "cell_type": "code",
   "execution_count": 112,
   "metadata": {},
   "outputs": [
    {
     "data": {
      "text/plain": [
       "10.0"
      ]
     },
     "execution_count": 112,
     "metadata": {},
     "output_type": "execute_result"
    }
   ],
   "source": [
    "# int -> float\n",
    "tamsayi_float = float(tamsayi)\n",
    "tamsayi_float"
   ]
  },
  {
   "cell_type": "code",
   "execution_count": 113,
   "metadata": {},
   "outputs": [
    {
     "data": {
      "text/plain": [
       "'10'"
      ]
     },
     "execution_count": 113,
     "metadata": {},
     "output_type": "execute_result"
    }
   ],
   "source": [
    "# int -> str\n",
    "tamsayi_str = str(tamsayi)\n",
    "tamsayi_str"
   ]
  },
  {
   "cell_type": "markdown",
   "metadata": {},
   "source": [
    "#### IF - ELSE"
   ]
  },
  {
   "cell_type": "code",
   "execution_count": 114,
   "metadata": {},
   "outputs": [
    {
     "name": "stdout",
     "output_type": "stream",
     "text": [
      "Pazartesi gunu listenin ikinci indeksinde degil\n"
     ]
    }
   ],
   "source": [
    "haftanin_gunleri = [\"pazartesi\", \"sali\", \"cars\", \"persembe\", \"cuma\",\"cumertesi\", \"pazar\"]\n",
    "if haftanin_gunleri[2] == \"pazartesi\":\n",
    "        print(\"Pazartesi gunu listenin ikinci indeksinde\")\n",
    "else:\n",
    "        print(\"Pazartesi gunu listenin ikinci indeksinde degil\")"
   ]
  },
  {
   "cell_type": "markdown",
   "metadata": {},
   "source": [
    "#### FOR LOOP\n"
   ]
  },
  {
   "cell_type": "code",
   "execution_count": 115,
   "metadata": {},
   "outputs": [
    {
     "name": "stdout",
     "output_type": "stream",
     "text": [
      "1\n",
      "2\n",
      "3\n",
      "4\n",
      "5\n",
      "6\n",
      "7\n",
      "8\n",
      "9\n",
      "10\n"
     ]
    }
   ],
   "source": [
    "for i in range(1,11):\n",
    "    print(i)"
   ]
  },
  {
   "cell_type": "code",
   "execution_count": 116,
   "metadata": {},
   "outputs": [
    {
     "name": "stdout",
     "output_type": "stream",
     "text": [
      "p\n",
      "a\n",
      "z\n",
      "a\n",
      "r\n",
      "t\n",
      "e\n",
      "s\n",
      "i\n",
      " \n",
      "s\n",
      "a\n",
      "l\n",
      "i\n"
     ]
    }
   ],
   "source": [
    "for i in \"pazartesi sali\":\n",
    "    print(i)"
   ]
  },
  {
   "cell_type": "code",
   "execution_count": 117,
   "metadata": {},
   "outputs": [
    {
     "name": "stdout",
     "output_type": "stream",
     "text": [
      "['bugun', 'python', 'dersimiz', 'var.']\n"
     ]
    }
   ],
   "source": [
    "\"\"\"\n",
    "problem : NLP, elimizde str olarak cumle var. Mesela: \"Bugun Python Dersimiz Var.\"\n",
    "[\"bugun\",\"python\",\"dersimiz\",\"var.\"]\n",
    "\n",
    "\"\"\"\n",
    "\n",
    "cumle = \"Bugun Python Dersimiz Var.\"\n",
    "liste_cumle = cumle.split()\n",
    "liste_cumle\n",
    "\n",
    "liste = []\n",
    "for i in liste_cumle:\n",
    "    kelime_kucuk_harf = i.lower()\n",
    "    liste.append(kelime_kucuk_harf)\n",
    "    ## print(kelime_kucuk_harf)\n",
    "print(liste)"
   ]
  },
  {
   "cell_type": "code",
   "execution_count": 118,
   "metadata": {},
   "outputs": [
    {
     "name": "stdout",
     "output_type": "stream",
     "text": [
      "Çift sayıların toplamı: 12\n"
     ]
    }
   ],
   "source": [
    "\"\"\"\n",
    "problem: liste = [1,2,3,4,5,6]\n",
    "fonksiyon\n",
    "    girdi: liste\n",
    "    cikti: listenin  icinde bulunan cift sayilarun toplami\n",
    "\n",
    "\"\"\"\n",
    "liste = [1, 2, 3, 4, 5, 6]\n",
    "def cift_sayilarin_toplami(liste):\n",
    "    toplam = 0\n",
    "    for i in liste:\n",
    "        if i % 2 == 0:\n",
    "            toplam += i\n",
    "    return toplam\n",
    "\n",
    "sonuc = cift_sayilarin_toplami(liste)\n",
    "print(\"Çift sayıların toplamı:\", sonuc)\n",
    "\n"
   ]
  },
  {
   "cell_type": "markdown",
   "metadata": {},
   "source": [
    "# Numpy"
   ]
  },
  {
   "cell_type": "code",
   "execution_count": 119,
   "metadata": {},
   "outputs": [],
   "source": [
    "import numpy as np"
   ]
  },
  {
   "cell_type": "code",
   "execution_count": 120,
   "metadata": {},
   "outputs": [
    {
     "data": {
      "text/plain": [
       "array([ 1,  2,  3,  4,  5,  6,  7,  8,  9, 10, 11, 12, 13, 14, 15])"
      ]
     },
     "execution_count": 120,
     "metadata": {},
     "output_type": "execute_result"
    }
   ],
   "source": [
    "# numpy array olusturma\n",
    "liste = [1,2,3,4,5,6,7,8,9,10,11,12,13,14,15]\n",
    "dizi = np.array(liste)\n",
    "dizi"
   ]
  },
  {
   "cell_type": "code",
   "execution_count": 121,
   "metadata": {},
   "outputs": [
    {
     "data": {
      "text/plain": [
       "(15,)"
      ]
     },
     "execution_count": 121,
     "metadata": {},
     "output_type": "execute_result"
    }
   ],
   "source": [
    "# arrau boyutu\n",
    "dizi.shape     # (15,0) -> 15x1 lik bir vektor"
   ]
  },
  {
   "cell_type": "code",
   "execution_count": 122,
   "metadata": {},
   "outputs": [
    {
     "data": {
      "text/plain": [
       "array([[ 1,  2,  3,  4,  5],\n",
       "       [ 6,  7,  8,  9, 10],\n",
       "       [11, 12, 13, 14, 15]])"
      ]
     },
     "execution_count": 122,
     "metadata": {},
     "output_type": "execute_result"
    }
   ],
   "source": [
    "# 15x1 lik bir arrayi 3x5 lik bir matrise cevirme\n",
    "dizi2 = dizi.reshape(3,5)\n",
    "dizi2"
   ]
  },
  {
   "cell_type": "code",
   "execution_count": 123,
   "metadata": {},
   "outputs": [
    {
     "name": "stdout",
     "output_type": "stream",
     "text": [
      "shape: (3, 5)\n",
      "dimension(boyut): 2\n",
      "size: 15\n",
      "type: <class 'numpy.ndarray'>\n"
     ]
    }
   ],
   "source": [
    "print(\"shape:\", dizi2.shape)\n",
    "print(\"dimension(boyut):\", dizi2.ndim)\n",
    "print(\"size:\", dizi2.size)\n",
    "print(\"type:\", type(dizi2))"
   ]
  },
  {
   "cell_type": "code",
   "execution_count": 124,
   "metadata": {},
   "outputs": [
    {
     "data": {
      "text/plain": [
       "array([[1, 2, 3, 4],\n",
       "       [5, 6, 7, 8],\n",
       "       [9, 8, 7, 5]])"
      ]
     },
     "execution_count": 124,
     "metadata": {},
     "output_type": "execute_result"
    }
   ],
   "source": [
    "dizi2D = np.array([[1,2,3,4],[5,6,7,8],[9,8,7,5]])\n",
    "dizi2D"
   ]
  },
  {
   "cell_type": "code",
   "execution_count": 125,
   "metadata": {},
   "outputs": [
    {
     "data": {
      "text/plain": [
       "array([[0., 0., 0., 0.],\n",
       "       [0., 0., 0., 0.],\n",
       "       [0., 0., 0., 0.]])"
      ]
     },
     "execution_count": 125,
     "metadata": {},
     "output_type": "execute_result"
    }
   ],
   "source": [
    "# sifirlardan olusan bir array olusturma\n",
    "\n",
    "sifirdizisi = np.zeros((3,4))\n",
    "sifirdizisi"
   ]
  },
  {
   "cell_type": "code",
   "execution_count": 126,
   "metadata": {},
   "outputs": [
    {
     "data": {
      "text/plain": [
       "array([[[1., 1., 1., 1., 1.],\n",
       "        [1., 1., 1., 1., 1.],\n",
       "        [1., 1., 1., 1., 1.],\n",
       "        [1., 1., 1., 1., 1.]],\n",
       "\n",
       "       [[1., 1., 1., 1., 1.],\n",
       "        [1., 1., 1., 1., 1.],\n",
       "        [1., 1., 1., 1., 1.],\n",
       "        [1., 1., 1., 1., 1.]],\n",
       "\n",
       "       [[1., 1., 1., 1., 1.],\n",
       "        [1., 1., 1., 1., 1.],\n",
       "        [1., 1., 1., 1., 1.],\n",
       "        [1., 1., 1., 1., 1.]]])"
      ]
     },
     "execution_count": 126,
     "metadata": {},
     "output_type": "execute_result"
    }
   ],
   "source": [
    "# birlerden olusan bir array olusturma\n",
    "\n",
    "birdizisi = np.ones((3,4,5))\n",
    "birdizisi"
   ]
  },
  {
   "cell_type": "code",
   "execution_count": 127,
   "metadata": {},
   "outputs": [
    {
     "data": {
      "text/plain": [
       "array([[0., 0., 0., 0.],\n",
       "       [0., 0., 0., 0.]])"
      ]
     },
     "execution_count": 127,
     "metadata": {},
     "output_type": "execute_result"
    }
   ],
   "source": [
    "# bos bir array olusturma\n",
    "bosdizi = np.empty((2,4))\n",
    "bosdizi"
   ]
  },
  {
   "cell_type": "code",
   "execution_count": 128,
   "metadata": {},
   "outputs": [
    {
     "data": {
      "text/plain": [
       "array([10, 15, 20, 25, 30, 35, 40, 45])"
      ]
     },
     "execution_count": 128,
     "metadata": {},
     "output_type": "execute_result"
    }
   ],
   "source": [
    "# arange (x,y,basamak) x den baslar y ye (y dahil degil) kadar gider basamak buyuklugunde artarak ilerler\n",
    "# 10, 50, basamak =5\n",
    "dizi_aralik = np.arange(10,50,5)\n",
    "dizi_aralik"
   ]
  },
  {
   "cell_type": "code",
   "execution_count": 129,
   "metadata": {},
   "outputs": [
    {
     "data": {
      "text/plain": [
       "array([10., 15., 20., 25., 30., 35., 40., 45., 50.])"
      ]
     },
     "execution_count": 129,
     "metadata": {},
     "output_type": "execute_result"
    }
   ],
   "source": [
    "# linspace (x,y,basamak) x ve y(dahil) araliginda basamak kadar sayiya boler\n",
    "dizi_bosluk = np.linspace(10,50,9)\n",
    "dizi_bosluk"
   ]
  },
  {
   "cell_type": "markdown",
   "metadata": {},
   "source": [
    "##  Numpy Temel Operasyonlari\n"
   ]
  },
  {
   "cell_type": "code",
   "execution_count": 130,
   "metadata": {},
   "outputs": [],
   "source": [
    "import numpy as np"
   ]
  },
  {
   "cell_type": "code",
   "execution_count": 131,
   "metadata": {},
   "outputs": [],
   "source": [
    "a = np.array([1,2,3])\n",
    "b = np.array([4,5,6])"
   ]
  },
  {
   "cell_type": "code",
   "execution_count": 132,
   "metadata": {},
   "outputs": [
    {
     "name": "stdout",
     "output_type": "stream",
     "text": [
      "Toplama:  [5 7 9]\n",
      "Cikartma:  [-3 -3 -3]\n",
      "Carpma:  [ 4 10 18]\n",
      "Bolme:  [0.25 0.4  0.5 ]\n",
      "Karesi:  [1 4 9]\n",
      "Kupu:  [ 1  8 27]\n"
     ]
    }
   ],
   "source": [
    "print(\"Toplama: \", a+b)\n",
    "print(\"Cikartma: \", a-b)\n",
    "print(\"Carpma: \", a*b)\n",
    "print(\"Bolme: \", a/b)\n",
    "print(\"Karesi: \", a**2)\n",
    "print(\"Kupu: \", a**3)"
   ]
  },
  {
   "cell_type": "code",
   "execution_count": 133,
   "metadata": {},
   "outputs": [
    {
     "data": {
      "text/plain": [
       "array([ True, False, False])"
      ]
     },
     "execution_count": 133,
     "metadata": {},
     "output_type": "execute_result"
    }
   ],
   "source": [
    "# Filtreleme\n",
    "a = np.array([1,2,3])\n",
    "a < 2                  # a arrayinin icinde bulunan 2 den kucuk degerleri goster"
   ]
  },
  {
   "cell_type": "code",
   "execution_count": 134,
   "metadata": {},
   "outputs": [
    {
     "data": {
      "text/plain": [
       "array([[32, 14],\n",
       "       [77, 32]])"
      ]
     },
     "execution_count": 134,
     "metadata": {},
     "output_type": "execute_result"
    }
   ],
   "source": [
    "# matris carpimi\n",
    "a = np.array([[1,2,3],\n",
    "              [4,5,6]])  # 2x3\n",
    "\n",
    "b = np.array([[4,5,6],\n",
    "              [1,2,3]])  # 2x3  -> Transpose aliniyor 3x2\n",
    "a.dot(b.T)"
   ]
  },
  {
   "cell_type": "code",
   "execution_count": 135,
   "metadata": {},
   "outputs": [
    {
     "name": "stdout",
     "output_type": "stream",
     "text": [
      "[5 7 9]\n",
      "21\n",
      "21\n"
     ]
    }
   ],
   "source": [
    "a = np.array([[1,2,3],\n",
    "              [4,5,6]])  # 2x3\n",
    "print(sum(a))\n",
    "print(np.sum(a))\n",
    "print(a.sum())"
   ]
  },
  {
   "cell_type": "code",
   "execution_count": 136,
   "metadata": {},
   "outputs": [
    {
     "name": "stdout",
     "output_type": "stream",
     "text": [
      "6\n",
      "1\n",
      "6\n",
      "1\n"
     ]
    }
   ],
   "source": [
    "print(a.max())\n",
    "print(a.min())\n",
    "print(np.max(a))\n",
    "print(np.min(a))"
   ]
  },
  {
   "cell_type": "code",
   "execution_count": 137,
   "metadata": {},
   "outputs": [
    {
     "name": "stdout",
     "output_type": "stream",
     "text": [
      "[ 6 15]\n",
      "[5 7 9]\n"
     ]
    }
   ],
   "source": [
    "# satir satir toplama\n",
    "print(a.sum(axis = 1))\n",
    "# sutun sutun toplama\n",
    "print(a.sum(axis = 0))"
   ]
  },
  {
   "cell_type": "code",
   "execution_count": 138,
   "metadata": {},
   "outputs": [
    {
     "data": {
      "text/plain": [
       "array([[1.        , 1.41421356, 1.73205081],\n",
       "       [2.        , 2.23606798, 2.44948974]])"
      ]
     },
     "execution_count": 138,
     "metadata": {},
     "output_type": "execute_result"
    }
   ],
   "source": [
    "# sqrt (karekok alma)\n",
    "np.sqrt(a)"
   ]
  },
  {
   "cell_type": "code",
   "execution_count": 139,
   "metadata": {},
   "outputs": [
    {
     "name": "stdout",
     "output_type": "stream",
     "text": [
      "[[ 1  4  9]\n",
      " [16 25 36]]\n",
      "[[ 1  4  9]\n",
      " [16 25 36]]\n"
     ]
    }
   ],
   "source": [
    "# kare alma\n",
    "print(np.square(a))\n",
    "print(a**2)"
   ]
  },
  {
   "cell_type": "code",
   "execution_count": 140,
   "metadata": {},
   "outputs": [
    {
     "data": {
      "text/plain": [
       "array([[0.55814017, 0.45782345, 0.85212685],\n",
       "       [0.77193416, 0.1753977 , 0.38702123],\n",
       "       [0.93080276, 0.8895059 , 0.66152083]])"
      ]
     },
     "execution_count": 140,
     "metadata": {},
     "output_type": "execute_result"
    }
   ],
   "source": [
    "# Rastgele sayi uretme\n",
    "rastgele_dizi = np.random.random((3,3))  # Normal dagilima gore 0-1\n",
    "rastgele_dizi"
   ]
  },
  {
   "cell_type": "code",
   "execution_count": 141,
   "metadata": {},
   "outputs": [
    {
     "data": {
      "text/plain": [
       "array([ 0.79449249, -0.37235694, -0.6925551 ,  1.51736448,  1.100819  ,\n",
       "       -0.67613743,  0.51140541, -0.70061236,  0.93538422,  0.76659015])"
      ]
     },
     "execution_count": 141,
     "metadata": {},
     "output_type": "execute_result"
    }
   ],
   "source": [
    "# Rastgele sayi uretme\n",
    "rastgele_dizi = np.random.normal(0,1,10)  # Normal dagilima gore 0 ortalamali 1 std sapmali, 5 deger uret\n",
    "rastgele_dizi"
   ]
  },
  {
   "cell_type": "code",
   "execution_count": 142,
   "metadata": {},
   "outputs": [
    {
     "data": {
      "text/plain": [
       "array([[0.78503037, 0.08444145, 0.51589984],\n",
       "       [0.30860038, 0.69113513, 0.40584292],\n",
       "       [0.85075932, 0.23936075, 0.02502929]])"
      ]
     },
     "execution_count": 142,
     "metadata": {},
     "output_type": "execute_result"
    }
   ],
   "source": [
    "np.random.rand(3,3)"
   ]
  },
  {
   "cell_type": "code",
   "execution_count": 143,
   "metadata": {},
   "outputs": [
    {
     "data": {
      "text/plain": [
       "array([[ 0.41723832,  1.25874267, -0.03301079],\n",
       "       [-1.21666733,  0.85617125,  0.31188268],\n",
       "       [ 0.8428831 ,  1.34747815, -1.70098731],\n",
       "       [-2.14054004, -1.56827045,  2.26128371],\n",
       "       [ 1.66686956,  1.54941125,  0.660476  ]])"
      ]
     },
     "execution_count": 143,
     "metadata": {},
     "output_type": "execute_result"
    }
   ],
   "source": [
    "np.random.normal(0,1,(5,3))"
   ]
  },
  {
   "cell_type": "markdown",
   "metadata": {},
   "source": [
    "## Shape Manipulation\n"
   ]
  },
  {
   "cell_type": "code",
   "execution_count": 144,
   "metadata": {},
   "outputs": [
    {
     "name": "stdout",
     "output_type": "stream",
     "text": [
      "A array:\n",
      "[[0.35305445 0.65273507 0.92257913 0.14804026 0.97935445]\n",
      " [0.0527562  0.78566336 0.77828242 0.10579735 0.04323689]\n",
      " [0.89933825 0.83230937 0.19057566 0.1447855  0.41127203]]\n",
      "\n",
      "B array (reshape edilmiş):\n",
      "[[ 0  1  2  3  4]\n",
      " [ 5  6  7  8  9]\n",
      " [10 11 12 13 14]]\n",
      "\n",
      "C array (A + B):\n",
      "[[ 0.35305445  1.65273507  2.92257913  3.14804026  4.97935445]\n",
      " [ 5.0527562   6.78566336  7.77828242  8.10579735  9.04323689]\n",
      " [10.89933825 11.83230937 12.19057566 13.1447855  14.41127203]]\n",
      "\n",
      "D array (linspace ile oluşturulan):\n",
      "[[10.         12.85714286 15.71428571 18.57142857 21.42857143]\n",
      " [24.28571429 27.14285714 30.         32.85714286 35.71428571]\n",
      " [38.57142857 41.42857143 44.28571429 47.14285714 50.        ]]\n",
      "\n",
      "E array (arange ile oluşturulan):\n",
      "[[ 10  20  30  40  50]\n",
      " [ 60  70  80  90 100]\n",
      " [110 120 130 140 150]]\n",
      "\n",
      "F array (D + E):\n",
      "[[ 20.          32.85714286  45.71428571  58.57142857  71.42857143]\n",
      " [ 84.28571429  97.14285714 110.         122.85714286 135.71428571]\n",
      " [148.57142857 161.42857143 174.28571429 187.14285714 200.        ]]\n",
      "\n",
      "G array (C ve F'nin elemanlarının çarpımı, 15x1):\n",
      "[7.061088940056177, 54.30415213923938, 133.60361756683056, 184.3852155103653, 355.66817479180196, 425.8751656974432, 659.1787267880082, 855.6110659246024, 995.8551031562421, 1227.2964350521524, 1619.3302549091034, 1910.0727987793298, 2124.643186823985, 2459.952714212224, 2882.2544064816293]\n",
      "G1 (Toplam > 1 olanlar): [200.35305444700282, 188.79559220796443, 177.2082934199887, 164.57661169338257, 153.55078301851378, 140.76704191747572, 129.64280622113705, 117.77828241749638, 105.24865449412887, 93.32895117557224, 82.32790968276731, 70.40373794439788, 57.90486137639055, 46.00192835293337, 34.41127203240815]\n",
      "G2 (Toplam <= 1 olanlar): []\n"
     ]
    },
    {
     "data": {
      "text/plain": [
       "'\\n###  EN BASINDA TERS CEVIRIP NORMAL TOPLAMA YAPILDI.\\nC = C.reshape(15,1)\\nF = F.reshape(15,1)\\nF =F[::-1]\\nG1 = []\\nG2 = []\\nfor i in range(len(C)):\\n    toplam = C[i] + F[i]\\n    if toplam > 1:\\n        G1.append(toplam)\\n    else:\\n        G2.append(toplam)\\nprint(G1,G2)\\n'"
      ]
     },
     "execution_count": 144,
     "metadata": {},
     "output_type": "execute_result"
    }
   ],
   "source": [
    "\"\"\"\n",
    "1) A array = 2 boyutlu bir tane array -> (3,5)\n",
    "2) B array = 1 boyutlu bir tane array -> (15,)\n",
    "3) B array'ini (3,5) olacak sekilde reshape yapalim\n",
    "4) C = A + B\n",
    "5) D=linspace ve E=arange ile (3,5) lik matrisler olusturalim.\n",
    "6) F = D + E\n",
    "7) C'nin ve F'nin her bir elemanini for dongusu ile eleman eleman carpip G = (15,1) boyutunda elde edelim.\n",
    "\"\"\"\n",
    "import numpy as np\n",
    "# 2 boyutlu bir dizi oluşturma (3x5)\n",
    "A = np.random.rand(3, 5)  # 0 ile 1 arasında rastgele sayılarla dolu 3x5'lik bir dizi\n",
    "# 1 boyutlu bir dizi oluşturma (15 elemanlı)\n",
    "B = np.arange(15)  # 0'dan 14'e kadar sayıları içeren bir dizi\n",
    "# B dizisini 3x5 boyutunda yeniden şekillendirme\n",
    "B = B.reshape(3, 5)\n",
    "# A ve B dizilerini toplama\n",
    "C = A + B\n",
    "D=np.linspace(10,50,15).reshape(3,5)\n",
    "E=np.arange(10,160,10).reshape(3,5)\n",
    "F=D+E\n",
    "G = []\n",
    "for i in range(C.shape[0]):  # 3\n",
    "    for j in range(C.shape[1]):  # 5\n",
    "        G.append(C[i, j] * F[i, j])\n",
    "\n",
    "# Sonuçları ekrana yazdıralım\n",
    "print(\"A array:\")\n",
    "print(A)\n",
    "\n",
    "print(\"\\nB array (reshape edilmiş):\")\n",
    "print(B)\n",
    "\n",
    "print(\"\\nC array (A + B):\")\n",
    "print(C)\n",
    "\n",
    "print(\"\\nD array (linspace ile oluşturulan):\")\n",
    "print(D)\n",
    "\n",
    "print(\"\\nE array (arange ile oluşturulan):\")\n",
    "print(E)\n",
    "\n",
    "print(\"\\nF array (D + E):\")\n",
    "print(F)\n",
    "\n",
    "print(\"\\nG array (C ve F'nin elemanlarının çarpımı, 15x1):\")\n",
    "print(G)\n",
    "# print(\"G shape: \",np.array(G).shape)\n",
    "\n",
    "# 8) C ve F'yi (15, 1) şekline getirip koşulu kontrol etme\n",
    "C_flat = C.reshape(-1, 1)  # -1 otomatik olarak 15 elemanı kullanır\n",
    "F_flat = F.reshape(-1, 1)\n",
    "\n",
    "# G1 ve G2 listelerini tanımlama\n",
    "G1 = []\n",
    "G2 = []\n",
    "\n",
    "# C'nin ilk elemanı ve F'nin son elemanı toplama işlemi ile ilerleme\n",
    "for i in range(len(C_flat)):  # C_flat'in uzunluğunu kullanarak döngüyü oluştur\n",
    "    toplam = C_flat[i, 0] + F_flat[len(F_flat) - 1 - i, 0]  # len kullanarak sondan eleman al\n",
    "    if toplam > 1:\n",
    "        G1.append(toplam)\n",
    "    else:\n",
    "        G2.append(toplam)\n",
    "\n",
    "# Sonuçları yazdırma\n",
    "print(\"G1 (Toplam > 1 olanlar):\", G1)\n",
    "print(\"G2 (Toplam <= 1 olanlar):\", G2)\n",
    "\"\"\"\n",
    "###  EN BASINDA TERS CEVIRIP NORMAL TOPLAMA YAPILDI.\n",
    "C = C.reshape(15,1)\n",
    "F = F.reshape(15,1)\n",
    "F =F[::-1]\n",
    "G1 = []\n",
    "G2 = []\n",
    "for i in range(len(C)):\n",
    "    toplam = C[i] + F[i]\n",
    "    if toplam > 1:\n",
    "        G1.append(toplam)\n",
    "    else:\n",
    "        G2.append(toplam)\n",
    "print(G1,G2)\n",
    "\"\"\""
   ]
  },
  {
   "cell_type": "code",
   "execution_count": null,
   "metadata": {},
   "outputs": [],
   "source": []
  },
  {
   "cell_type": "code",
   "execution_count": 145,
   "metadata": {},
   "outputs": [],
   "source": [
    "import numpy as np"
   ]
  },
  {
   "cell_type": "code",
   "execution_count": 146,
   "metadata": {},
   "outputs": [
    {
     "data": {
      "text/plain": [
       "array([[1, 2],\n",
       "       [3, 4]])"
      ]
     },
     "execution_count": 146,
     "metadata": {},
     "output_type": "execute_result"
    }
   ],
   "source": [
    "dizi1 = np.array([[1,2], [3,4]])\n",
    "dizi1"
   ]
  },
  {
   "cell_type": "code",
   "execution_count": 147,
   "metadata": {},
   "outputs": [
    {
     "data": {
      "text/plain": [
       "array([[-1, -2],\n",
       "       [-3, -4]])"
      ]
     },
     "execution_count": 147,
     "metadata": {},
     "output_type": "execute_result"
    }
   ],
   "source": [
    "dizi2 = np.array([[-1,-2], [-3,-4]])\n",
    "dizi2"
   ]
  },
  {
   "cell_type": "code",
   "execution_count": 148,
   "metadata": {},
   "outputs": [
    {
     "data": {
      "text/plain": [
       "array([[ 1,  2],\n",
       "       [ 3,  4],\n",
       "       [-1, -2],\n",
       "       [-3, -4]])"
      ]
     },
     "execution_count": 148,
     "metadata": {},
     "output_type": "execute_result"
    }
   ],
   "source": [
    "dizi_dikey = np.vstack((dizi1, dizi2))\n",
    "dizi_dikey"
   ]
  },
  {
   "cell_type": "code",
   "execution_count": 149,
   "metadata": {},
   "outputs": [
    {
     "data": {
      "text/plain": [
       "array([[ 1,  2, -1, -2],\n",
       "       [ 3,  4, -3, -4]])"
      ]
     },
     "execution_count": 149,
     "metadata": {},
     "output_type": "execute_result"
    }
   ],
   "source": [
    "dizi_yatay = np.hstack((dizi1, dizi2))\n",
    "dizi_yatay"
   ]
  },
  {
   "cell_type": "code",
   "execution_count": 150,
   "metadata": {},
   "outputs": [
    {
     "data": {
      "text/plain": [
       "array([[1, 2, 1, 2, 1, 2],\n",
       "       [3, 4, 3, 4, 3, 4]])"
      ]
     },
     "execution_count": 150,
     "metadata": {},
     "output_type": "execute_result"
    }
   ],
   "source": [
    "# problem tanimi: 2 boyutlu (2 satir ve 2 sutun) 3 adet array olustur,\n",
    "# bunlari yatayda ve dikeyde birlestir\n",
    "np.hstack((dizi1, dizi1, dizi1))"
   ]
  },
  {
   "cell_type": "code",
   "execution_count": 151,
   "metadata": {},
   "outputs": [
    {
     "data": {
      "text/plain": [
       "array([[1, 2],\n",
       "       [3, 4],\n",
       "       [1, 2],\n",
       "       [3, 4],\n",
       "       [1, 2],\n",
       "       [3, 4]])"
      ]
     },
     "execution_count": 151,
     "metadata": {},
     "output_type": "execute_result"
    }
   ],
   "source": [
    "np.vstack((dizi1, dizi1, dizi1))"
   ]
  },
  {
   "cell_type": "markdown",
   "metadata": {},
   "source": [
    "## **Pandas**\n",
    "*   .csv, .txt bunlarin import edilmesi icin\n",
    "*   Preprocessing: verinin training icin hazir hale getirilmesi\n",
    "*   EDA (Kesifsel Veri Analizi): outlier tespiti, feature extraction, correlation ..."
   ]
  },
  {
   "cell_type": "code",
   "execution_count": 34,
   "metadata": {},
   "outputs": [],
   "source": [
    "import pandas as pd"
   ]
  },
  {
   "cell_type": "code",
   "execution_count": 35,
   "metadata": {},
   "outputs": [
    {
     "data": {
      "text/plain": [
       "{'isim': ['ali', 'veli', 'kenan', 'murat', 'ayse', 'hilal'],\n",
       " 'yas': [15, 16, 17, 33, nan, 66],\n",
       " 'maas': [100.0, 150.0, 240.0, 350.0, 110.0, 220.0]}"
      ]
     },
     "execution_count": 35,
     "metadata": {},
     "output_type": "execute_result"
    }
   ],
   "source": [
    "# dataframe\n",
    "dictionary = {\"isim\": [\"ali\", \"veli\", \"kenan\", \"murat\", \"ayse\", \"hilal\"],\n",
    "              \"yas\": [15, 16, 17, 33, np.nan , 66],\n",
    "              \"maas\": [100.0, 150.0, 240.0, 350.0, 110.0, 220.0]}\n",
    "dictionary"
   ]
  },
  {
   "cell_type": "code",
   "execution_count": 36,
   "metadata": {},
   "outputs": [],
   "source": [
    "veri = pd.DataFrame(dictionary)"
   ]
  },
  {
   "cell_type": "code",
   "execution_count": 37,
   "metadata": {},
   "outputs": [
    {
     "data": {
      "text/html": [
       "<div>\n",
       "<style scoped>\n",
       "    .dataframe tbody tr th:only-of-type {\n",
       "        vertical-align: middle;\n",
       "    }\n",
       "\n",
       "    .dataframe tbody tr th {\n",
       "        vertical-align: top;\n",
       "    }\n",
       "\n",
       "    .dataframe thead th {\n",
       "        text-align: right;\n",
       "    }\n",
       "</style>\n",
       "<table border=\"1\" class=\"dataframe\">\n",
       "  <thead>\n",
       "    <tr style=\"text-align: right;\">\n",
       "      <th></th>\n",
       "      <th>isim</th>\n",
       "      <th>yas</th>\n",
       "      <th>maas</th>\n",
       "    </tr>\n",
       "  </thead>\n",
       "  <tbody>\n",
       "    <tr>\n",
       "      <th>0</th>\n",
       "      <td>ali</td>\n",
       "      <td>15.0</td>\n",
       "      <td>100.0</td>\n",
       "    </tr>\n",
       "    <tr>\n",
       "      <th>1</th>\n",
       "      <td>veli</td>\n",
       "      <td>16.0</td>\n",
       "      <td>150.0</td>\n",
       "    </tr>\n",
       "    <tr>\n",
       "      <th>2</th>\n",
       "      <td>kenan</td>\n",
       "      <td>17.0</td>\n",
       "      <td>240.0</td>\n",
       "    </tr>\n",
       "    <tr>\n",
       "      <th>3</th>\n",
       "      <td>murat</td>\n",
       "      <td>33.0</td>\n",
       "      <td>350.0</td>\n",
       "    </tr>\n",
       "    <tr>\n",
       "      <th>4</th>\n",
       "      <td>ayse</td>\n",
       "      <td>NaN</td>\n",
       "      <td>110.0</td>\n",
       "    </tr>\n",
       "  </tbody>\n",
       "</table>\n",
       "</div>"
      ],
      "text/plain": [
       "    isim   yas   maas\n",
       "0    ali  15.0  100.0\n",
       "1   veli  16.0  150.0\n",
       "2  kenan  17.0  240.0\n",
       "3  murat  33.0  350.0\n",
       "4   ayse   NaN  110.0"
      ]
     },
     "execution_count": 37,
     "metadata": {},
     "output_type": "execute_result"
    }
   ],
   "source": [
    "# verinin ilk 5 satiri\n",
    "veri.head()"
   ]
  },
  {
   "cell_type": "code",
   "execution_count": 38,
   "metadata": {},
   "outputs": [
    {
     "data": {
      "text/html": [
       "<div>\n",
       "<style scoped>\n",
       "    .dataframe tbody tr th:only-of-type {\n",
       "        vertical-align: middle;\n",
       "    }\n",
       "\n",
       "    .dataframe tbody tr th {\n",
       "        vertical-align: top;\n",
       "    }\n",
       "\n",
       "    .dataframe thead th {\n",
       "        text-align: right;\n",
       "    }\n",
       "</style>\n",
       "<table border=\"1\" class=\"dataframe\">\n",
       "  <thead>\n",
       "    <tr style=\"text-align: right;\">\n",
       "      <th></th>\n",
       "      <th>isim</th>\n",
       "      <th>yas</th>\n",
       "      <th>maas</th>\n",
       "    </tr>\n",
       "  </thead>\n",
       "  <tbody>\n",
       "    <tr>\n",
       "      <th>1</th>\n",
       "      <td>veli</td>\n",
       "      <td>16.0</td>\n",
       "      <td>150.0</td>\n",
       "    </tr>\n",
       "    <tr>\n",
       "      <th>2</th>\n",
       "      <td>kenan</td>\n",
       "      <td>17.0</td>\n",
       "      <td>240.0</td>\n",
       "    </tr>\n",
       "    <tr>\n",
       "      <th>3</th>\n",
       "      <td>murat</td>\n",
       "      <td>33.0</td>\n",
       "      <td>350.0</td>\n",
       "    </tr>\n",
       "    <tr>\n",
       "      <th>4</th>\n",
       "      <td>ayse</td>\n",
       "      <td>NaN</td>\n",
       "      <td>110.0</td>\n",
       "    </tr>\n",
       "    <tr>\n",
       "      <th>5</th>\n",
       "      <td>hilal</td>\n",
       "      <td>66.0</td>\n",
       "      <td>220.0</td>\n",
       "    </tr>\n",
       "  </tbody>\n",
       "</table>\n",
       "</div>"
      ],
      "text/plain": [
       "    isim   yas   maas\n",
       "1   veli  16.0  150.0\n",
       "2  kenan  17.0  240.0\n",
       "3  murat  33.0  350.0\n",
       "4   ayse   NaN  110.0\n",
       "5  hilal  66.0  220.0"
      ]
     },
     "execution_count": 38,
     "metadata": {},
     "output_type": "execute_result"
    }
   ],
   "source": [
    "# son 5 satir\n",
    "veri.tail()"
   ]
  },
  {
   "cell_type": "code",
   "execution_count": 39,
   "metadata": {},
   "outputs": [
    {
     "name": "stdout",
     "output_type": "stream",
     "text": [
      "<class 'pandas.core.frame.DataFrame'>\n",
      "RangeIndex: 6 entries, 0 to 5\n",
      "Data columns (total 3 columns):\n",
      " #   Column  Non-Null Count  Dtype  \n",
      "---  ------  --------------  -----  \n",
      " 0   isim    6 non-null      object \n",
      " 1   yas     5 non-null      float64\n",
      " 2   maas    6 non-null      float64\n",
      "dtypes: float64(2), object(1)\n",
      "memory usage: 276.0+ bytes\n"
     ]
    }
   ],
   "source": [
    "# dataframe ile ilgili temel bilgilere erismemiz lazim\n",
    "veri.info()"
   ]
  },
  {
   "cell_type": "code",
   "execution_count": 40,
   "metadata": {},
   "outputs": [
    {
     "data": {
      "text/html": [
       "<div>\n",
       "<style scoped>\n",
       "    .dataframe tbody tr th:only-of-type {\n",
       "        vertical-align: middle;\n",
       "    }\n",
       "\n",
       "    .dataframe tbody tr th {\n",
       "        vertical-align: top;\n",
       "    }\n",
       "\n",
       "    .dataframe thead th {\n",
       "        text-align: right;\n",
       "    }\n",
       "</style>\n",
       "<table border=\"1\" class=\"dataframe\">\n",
       "  <thead>\n",
       "    <tr style=\"text-align: right;\">\n",
       "      <th></th>\n",
       "      <th>yas</th>\n",
       "      <th>maas</th>\n",
       "    </tr>\n",
       "  </thead>\n",
       "  <tbody>\n",
       "    <tr>\n",
       "      <th>count</th>\n",
       "      <td>5.000000</td>\n",
       "      <td>6.000000</td>\n",
       "    </tr>\n",
       "    <tr>\n",
       "      <th>mean</th>\n",
       "      <td>29.400000</td>\n",
       "      <td>195.000000</td>\n",
       "    </tr>\n",
       "    <tr>\n",
       "      <th>std</th>\n",
       "      <td>21.755459</td>\n",
       "      <td>94.815611</td>\n",
       "    </tr>\n",
       "    <tr>\n",
       "      <th>min</th>\n",
       "      <td>15.000000</td>\n",
       "      <td>100.000000</td>\n",
       "    </tr>\n",
       "    <tr>\n",
       "      <th>25%</th>\n",
       "      <td>16.000000</td>\n",
       "      <td>120.000000</td>\n",
       "    </tr>\n",
       "    <tr>\n",
       "      <th>50%</th>\n",
       "      <td>17.000000</td>\n",
       "      <td>185.000000</td>\n",
       "    </tr>\n",
       "    <tr>\n",
       "      <th>75%</th>\n",
       "      <td>33.000000</td>\n",
       "      <td>235.000000</td>\n",
       "    </tr>\n",
       "    <tr>\n",
       "      <th>max</th>\n",
       "      <td>66.000000</td>\n",
       "      <td>350.000000</td>\n",
       "    </tr>\n",
       "  </tbody>\n",
       "</table>\n",
       "</div>"
      ],
      "text/plain": [
       "             yas        maas\n",
       "count   5.000000    6.000000\n",
       "mean   29.400000  195.000000\n",
       "std    21.755459   94.815611\n",
       "min    15.000000  100.000000\n",
       "25%    16.000000  120.000000\n",
       "50%    17.000000  185.000000\n",
       "75%    33.000000  235.000000\n",
       "max    66.000000  350.000000"
      ]
     },
     "execution_count": 40,
     "metadata": {},
     "output_type": "execute_result"
    }
   ],
   "source": [
    "veri.describe() # veri seti icerisinde bulunan numeric feature'larin temel istatistiksel analizi"
   ]
  },
  {
   "cell_type": "code",
   "execution_count": 41,
   "metadata": {},
   "outputs": [
    {
     "data": {
      "text/plain": [
       "'\\nbasit bir df tanimla\\nhead, tail, columns, info ve describe fonksiyonlarini uygula\\n'"
      ]
     },
     "execution_count": 41,
     "metadata": {},
     "output_type": "execute_result"
    }
   ],
   "source": [
    "\"\"\"\n",
    "basit bir df tanimla\n",
    "head, tail, columns, info ve describe fonksiyonlarini uygula\n",
    "\"\"\""
   ]
  },
  {
   "cell_type": "code",
   "execution_count": 42,
   "metadata": {},
   "outputs": [
    {
     "data": {
      "text/html": [
       "<div>\n",
       "<style scoped>\n",
       "    .dataframe tbody tr th:only-of-type {\n",
       "        vertical-align: middle;\n",
       "    }\n",
       "\n",
       "    .dataframe tbody tr th {\n",
       "        vertical-align: top;\n",
       "    }\n",
       "\n",
       "    .dataframe thead th {\n",
       "        text-align: right;\n",
       "    }\n",
       "</style>\n",
       "<table border=\"1\" class=\"dataframe\">\n",
       "  <thead>\n",
       "    <tr style=\"text-align: right;\">\n",
       "      <th></th>\n",
       "      <th>isim</th>\n",
       "      <th>yas</th>\n",
       "      <th>maas</th>\n",
       "    </tr>\n",
       "  </thead>\n",
       "  <tbody>\n",
       "    <tr>\n",
       "      <th>0</th>\n",
       "      <td>ali</td>\n",
       "      <td>15</td>\n",
       "      <td>100.0</td>\n",
       "    </tr>\n",
       "    <tr>\n",
       "      <th>1</th>\n",
       "      <td>veli</td>\n",
       "      <td>16</td>\n",
       "      <td>150.0</td>\n",
       "    </tr>\n",
       "    <tr>\n",
       "      <th>2</th>\n",
       "      <td>kenan</td>\n",
       "      <td>17</td>\n",
       "      <td>240.0</td>\n",
       "    </tr>\n",
       "    <tr>\n",
       "      <th>3</th>\n",
       "      <td>murat</td>\n",
       "      <td>33</td>\n",
       "      <td>350.0</td>\n",
       "    </tr>\n",
       "    <tr>\n",
       "      <th>4</th>\n",
       "      <td>ayse</td>\n",
       "      <td>45</td>\n",
       "      <td>110.0</td>\n",
       "    </tr>\n",
       "    <tr>\n",
       "      <th>5</th>\n",
       "      <td>hilal</td>\n",
       "      <td>66</td>\n",
       "      <td>220.0</td>\n",
       "    </tr>\n",
       "  </tbody>\n",
       "</table>\n",
       "</div>"
      ],
      "text/plain": [
       "    isim  yas   maas\n",
       "0    ali   15  100.0\n",
       "1   veli   16  150.0\n",
       "2  kenan   17  240.0\n",
       "3  murat   33  350.0\n",
       "4   ayse   45  110.0\n",
       "5  hilal   66  220.0"
      ]
     },
     "execution_count": 42,
     "metadata": {},
     "output_type": "execute_result"
    }
   ],
   "source": [
    "dictionary = {\"isim\": [\"ali\", \"veli\", \"kenan\", \"murat\", \"ayse\", \"hilal\"],\n",
    "              \"yas\": [15, 16, 17, 33, 45 , 66],\n",
    "              \"maas\": [100.0, 150.0, 240.0, 350.0, 110.0, 220.0]}\n",
    "veri=pd.DataFrame(dictionary)\n",
    "veri"
   ]
  },
  {
   "cell_type": "code",
   "execution_count": 43,
   "metadata": {},
   "outputs": [
    {
     "data": {
      "text/plain": [
       "0    15\n",
       "1    16\n",
       "2    17\n",
       "3    33\n",
       "4    45\n",
       "5    66\n",
       "Name: yas, dtype: int64"
      ]
     },
     "execution_count": 43,
     "metadata": {},
     "output_type": "execute_result"
    }
   ],
   "source": [
    "veri[\"yas\"]"
   ]
  },
  {
   "cell_type": "code",
   "execution_count": 44,
   "metadata": {},
   "outputs": [
    {
     "data": {
      "text/plain": [
       "0    100.0\n",
       "1    150.0\n",
       "2    240.0\n",
       "3    350.0\n",
       "4    110.0\n",
       "5    220.0\n",
       "Name: maas, dtype: float64"
      ]
     },
     "execution_count": 44,
     "metadata": {},
     "output_type": "execute_result"
    }
   ],
   "source": [
    "veri[\"maas\"]"
   ]
  },
  {
   "cell_type": "code",
   "execution_count": 45,
   "metadata": {},
   "outputs": [
    {
     "data": {
      "text/html": [
       "<div>\n",
       "<style scoped>\n",
       "    .dataframe tbody tr th:only-of-type {\n",
       "        vertical-align: middle;\n",
       "    }\n",
       "\n",
       "    .dataframe tbody tr th {\n",
       "        vertical-align: top;\n",
       "    }\n",
       "\n",
       "    .dataframe thead th {\n",
       "        text-align: right;\n",
       "    }\n",
       "</style>\n",
       "<table border=\"1\" class=\"dataframe\">\n",
       "  <thead>\n",
       "    <tr style=\"text-align: right;\">\n",
       "      <th></th>\n",
       "      <th>isim</th>\n",
       "      <th>yas</th>\n",
       "      <th>maas</th>\n",
       "      <th>sehir</th>\n",
       "    </tr>\n",
       "  </thead>\n",
       "  <tbody>\n",
       "    <tr>\n",
       "      <th>0</th>\n",
       "      <td>ali</td>\n",
       "      <td>15</td>\n",
       "      <td>100.0</td>\n",
       "      <td>istanbul</td>\n",
       "    </tr>\n",
       "    <tr>\n",
       "      <th>1</th>\n",
       "      <td>veli</td>\n",
       "      <td>16</td>\n",
       "      <td>150.0</td>\n",
       "      <td>ankara</td>\n",
       "    </tr>\n",
       "    <tr>\n",
       "      <th>2</th>\n",
       "      <td>kenan</td>\n",
       "      <td>17</td>\n",
       "      <td>240.0</td>\n",
       "      <td>izmir</td>\n",
       "    </tr>\n",
       "    <tr>\n",
       "      <th>3</th>\n",
       "      <td>murat</td>\n",
       "      <td>33</td>\n",
       "      <td>350.0</td>\n",
       "      <td>bursa</td>\n",
       "    </tr>\n",
       "    <tr>\n",
       "      <th>4</th>\n",
       "      <td>ayse</td>\n",
       "      <td>45</td>\n",
       "      <td>110.0</td>\n",
       "      <td>izmir</td>\n",
       "    </tr>\n",
       "    <tr>\n",
       "      <th>5</th>\n",
       "      <td>hilal</td>\n",
       "      <td>66</td>\n",
       "      <td>220.0</td>\n",
       "      <td>istanbul</td>\n",
       "    </tr>\n",
       "  </tbody>\n",
       "</table>\n",
       "</div>"
      ],
      "text/plain": [
       "    isim  yas   maas     sehir\n",
       "0    ali   15  100.0  istanbul\n",
       "1   veli   16  150.0    ankara\n",
       "2  kenan   17  240.0     izmir\n",
       "3  murat   33  350.0     bursa\n",
       "4   ayse   45  110.0     izmir\n",
       "5  hilal   66  220.0  istanbul"
      ]
     },
     "execution_count": 45,
     "metadata": {},
     "output_type": "execute_result"
    }
   ],
   "source": [
    "# dataframe icerisine yeni sutun ekleme\n",
    "veri[\"sehir\"] = [\"istanbul\", \"ankara\", \"izmir\", \"bursa\", \"izmir\", \"istanbul\"]\n",
    "veri"
   ]
  },
  {
   "cell_type": "code",
   "execution_count": 46,
   "metadata": {},
   "outputs": [
    {
     "data": {
      "text/html": [
       "<div>\n",
       "<style scoped>\n",
       "    .dataframe tbody tr th:only-of-type {\n",
       "        vertical-align: middle;\n",
       "    }\n",
       "\n",
       "    .dataframe tbody tr th {\n",
       "        vertical-align: top;\n",
       "    }\n",
       "\n",
       "    .dataframe thead th {\n",
       "        text-align: right;\n",
       "    }\n",
       "</style>\n",
       "<table border=\"1\" class=\"dataframe\">\n",
       "  <thead>\n",
       "    <tr style=\"text-align: right;\">\n",
       "      <th></th>\n",
       "      <th>isim</th>\n",
       "      <th>yas</th>\n",
       "      <th>maas</th>\n",
       "      <th>sehir</th>\n",
       "      <th>maas_yuzde_20_zamli</th>\n",
       "    </tr>\n",
       "  </thead>\n",
       "  <tbody>\n",
       "    <tr>\n",
       "      <th>0</th>\n",
       "      <td>ali</td>\n",
       "      <td>15</td>\n",
       "      <td>100.0</td>\n",
       "      <td>istanbul</td>\n",
       "      <td>120.0</td>\n",
       "    </tr>\n",
       "    <tr>\n",
       "      <th>1</th>\n",
       "      <td>veli</td>\n",
       "      <td>16</td>\n",
       "      <td>150.0</td>\n",
       "      <td>ankara</td>\n",
       "      <td>180.0</td>\n",
       "    </tr>\n",
       "    <tr>\n",
       "      <th>2</th>\n",
       "      <td>kenan</td>\n",
       "      <td>17</td>\n",
       "      <td>240.0</td>\n",
       "      <td>izmir</td>\n",
       "      <td>288.0</td>\n",
       "    </tr>\n",
       "    <tr>\n",
       "      <th>3</th>\n",
       "      <td>murat</td>\n",
       "      <td>33</td>\n",
       "      <td>350.0</td>\n",
       "      <td>bursa</td>\n",
       "      <td>420.0</td>\n",
       "    </tr>\n",
       "    <tr>\n",
       "      <th>4</th>\n",
       "      <td>ayse</td>\n",
       "      <td>45</td>\n",
       "      <td>110.0</td>\n",
       "      <td>izmir</td>\n",
       "      <td>132.0</td>\n",
       "    </tr>\n",
       "    <tr>\n",
       "      <th>5</th>\n",
       "      <td>hilal</td>\n",
       "      <td>66</td>\n",
       "      <td>220.0</td>\n",
       "      <td>istanbul</td>\n",
       "      <td>264.0</td>\n",
       "    </tr>\n",
       "  </tbody>\n",
       "</table>\n",
       "</div>"
      ],
      "text/plain": [
       "    isim  yas   maas     sehir  maas_yuzde_20_zamli\n",
       "0    ali   15  100.0  istanbul                120.0\n",
       "1   veli   16  150.0    ankara                180.0\n",
       "2  kenan   17  240.0     izmir                288.0\n",
       "3  murat   33  350.0     bursa                420.0\n",
       "4   ayse   45  110.0     izmir                132.0\n",
       "5  hilal   66  220.0  istanbul                264.0"
      ]
     },
     "execution_count": 46,
     "metadata": {},
     "output_type": "execute_result"
    }
   ],
   "source": [
    "veri[\"maas_yuzde_20_zamli\"] = veri[\"maas\"] + 20*veri[\"maas\"]/100\n",
    "veri"
   ]
  },
  {
   "cell_type": "code",
   "execution_count": 47,
   "metadata": {},
   "outputs": [
    {
     "data": {
      "text/plain": [
       "0    15\n",
       "1    16\n",
       "2    17\n",
       "3    33\n",
       "4    45\n",
       "5    66\n",
       "Name: yas, dtype: int64"
      ]
     },
     "execution_count": 47,
     "metadata": {},
     "output_type": "execute_result"
    }
   ],
   "source": [
    "# veri[\"yas\"]\n",
    "# loc = location kisaltma\n",
    "veri.loc[:, \"yas\"] # row=satirlar, column = sutunlar"
   ]
  },
  {
   "cell_type": "code",
   "execution_count": 48,
   "metadata": {},
   "outputs": [
    {
     "data": {
      "text/plain": [
       "0    15\n",
       "1    16\n",
       "2    17\n",
       "Name: yas, dtype: int64"
      ]
     },
     "execution_count": 48,
     "metadata": {},
     "output_type": "execute_result"
    }
   ],
   "source": [
    "veri.loc[0:2, \"yas\"]"
   ]
  },
  {
   "cell_type": "code",
   "execution_count": 49,
   "metadata": {},
   "outputs": [
    {
     "data": {
      "text/plain": [
       "Index(['isim', 'yas', 'maas', 'sehir', 'maas_yuzde_20_zamli'], dtype='object')"
      ]
     },
     "execution_count": 49,
     "metadata": {},
     "output_type": "execute_result"
    }
   ],
   "source": [
    "veri.columns"
   ]
  },
  {
   "cell_type": "code",
   "execution_count": 50,
   "metadata": {},
   "outputs": [
    {
     "data": {
      "text/html": [
       "<div>\n",
       "<style scoped>\n",
       "    .dataframe tbody tr th:only-of-type {\n",
       "        vertical-align: middle;\n",
       "    }\n",
       "\n",
       "    .dataframe tbody tr th {\n",
       "        vertical-align: top;\n",
       "    }\n",
       "\n",
       "    .dataframe thead th {\n",
       "        text-align: right;\n",
       "    }\n",
       "</style>\n",
       "<table border=\"1\" class=\"dataframe\">\n",
       "  <thead>\n",
       "    <tr style=\"text-align: right;\">\n",
       "      <th></th>\n",
       "      <th>yas</th>\n",
       "      <th>maas</th>\n",
       "      <th>sehir</th>\n",
       "    </tr>\n",
       "  </thead>\n",
       "  <tbody>\n",
       "    <tr>\n",
       "      <th>0</th>\n",
       "      <td>15</td>\n",
       "      <td>100.0</td>\n",
       "      <td>istanbul</td>\n",
       "    </tr>\n",
       "    <tr>\n",
       "      <th>1</th>\n",
       "      <td>16</td>\n",
       "      <td>150.0</td>\n",
       "      <td>ankara</td>\n",
       "    </tr>\n",
       "    <tr>\n",
       "      <th>2</th>\n",
       "      <td>17</td>\n",
       "      <td>240.0</td>\n",
       "      <td>izmir</td>\n",
       "    </tr>\n",
       "  </tbody>\n",
       "</table>\n",
       "</div>"
      ],
      "text/plain": [
       "   yas   maas     sehir\n",
       "0   15  100.0  istanbul\n",
       "1   16  150.0    ankara\n",
       "2   17  240.0     izmir"
      ]
     },
     "execution_count": 50,
     "metadata": {},
     "output_type": "execute_result"
    }
   ],
   "source": [
    "veri.loc[0:2, 'yas':'sehir']"
   ]
  },
  {
   "cell_type": "code",
   "execution_count": 51,
   "metadata": {},
   "outputs": [
    {
     "data": {
      "text/html": [
       "<div>\n",
       "<style scoped>\n",
       "    .dataframe tbody tr th:only-of-type {\n",
       "        vertical-align: middle;\n",
       "    }\n",
       "\n",
       "    .dataframe tbody tr th {\n",
       "        vertical-align: top;\n",
       "    }\n",
       "\n",
       "    .dataframe thead th {\n",
       "        text-align: right;\n",
       "    }\n",
       "</style>\n",
       "<table border=\"1\" class=\"dataframe\">\n",
       "  <thead>\n",
       "    <tr style=\"text-align: right;\">\n",
       "      <th></th>\n",
       "      <th>isim</th>\n",
       "      <th>yas</th>\n",
       "      <th>maas</th>\n",
       "      <th>sehir</th>\n",
       "      <th>maas_yuzde_20_zamli</th>\n",
       "    </tr>\n",
       "  </thead>\n",
       "  <tbody>\n",
       "    <tr>\n",
       "      <th>0</th>\n",
       "      <td>ali</td>\n",
       "      <td>15</td>\n",
       "      <td>100.0</td>\n",
       "      <td>istanbul</td>\n",
       "      <td>120.0</td>\n",
       "    </tr>\n",
       "    <tr>\n",
       "      <th>1</th>\n",
       "      <td>veli</td>\n",
       "      <td>16</td>\n",
       "      <td>150.0</td>\n",
       "      <td>ankara</td>\n",
       "      <td>180.0</td>\n",
       "    </tr>\n",
       "    <tr>\n",
       "      <th>2</th>\n",
       "      <td>kenan</td>\n",
       "      <td>17</td>\n",
       "      <td>240.0</td>\n",
       "      <td>izmir</td>\n",
       "      <td>288.0</td>\n",
       "    </tr>\n",
       "    <tr>\n",
       "      <th>3</th>\n",
       "      <td>murat</td>\n",
       "      <td>33</td>\n",
       "      <td>350.0</td>\n",
       "      <td>bursa</td>\n",
       "      <td>420.0</td>\n",
       "    </tr>\n",
       "    <tr>\n",
       "      <th>4</th>\n",
       "      <td>ayse</td>\n",
       "      <td>45</td>\n",
       "      <td>110.0</td>\n",
       "      <td>izmir</td>\n",
       "      <td>132.0</td>\n",
       "    </tr>\n",
       "    <tr>\n",
       "      <th>5</th>\n",
       "      <td>hilal</td>\n",
       "      <td>66</td>\n",
       "      <td>220.0</td>\n",
       "      <td>istanbul</td>\n",
       "      <td>264.0</td>\n",
       "    </tr>\n",
       "  </tbody>\n",
       "</table>\n",
       "</div>"
      ],
      "text/plain": [
       "    isim  yas   maas     sehir  maas_yuzde_20_zamli\n",
       "0    ali   15  100.0  istanbul                120.0\n",
       "1   veli   16  150.0    ankara                180.0\n",
       "2  kenan   17  240.0     izmir                288.0\n",
       "3  murat   33  350.0     bursa                420.0\n",
       "4   ayse   45  110.0     izmir                132.0\n",
       "5  hilal   66  220.0  istanbul                264.0"
      ]
     },
     "execution_count": 51,
     "metadata": {},
     "output_type": "execute_result"
    }
   ],
   "source": [
    "veri"
   ]
  },
  {
   "cell_type": "code",
   "execution_count": 52,
   "metadata": {},
   "outputs": [
    {
     "data": {
      "text/html": [
       "<div>\n",
       "<style scoped>\n",
       "    .dataframe tbody tr th:only-of-type {\n",
       "        vertical-align: middle;\n",
       "    }\n",
       "\n",
       "    .dataframe tbody tr th {\n",
       "        vertical-align: top;\n",
       "    }\n",
       "\n",
       "    .dataframe thead th {\n",
       "        text-align: right;\n",
       "    }\n",
       "</style>\n",
       "<table border=\"1\" class=\"dataframe\">\n",
       "  <thead>\n",
       "    <tr style=\"text-align: right;\">\n",
       "      <th></th>\n",
       "      <th>isim</th>\n",
       "      <th>yas</th>\n",
       "      <th>maas</th>\n",
       "    </tr>\n",
       "  </thead>\n",
       "  <tbody>\n",
       "    <tr>\n",
       "      <th>0</th>\n",
       "      <td>ali</td>\n",
       "      <td>15</td>\n",
       "      <td>100.0</td>\n",
       "    </tr>\n",
       "    <tr>\n",
       "      <th>1</th>\n",
       "      <td>veli</td>\n",
       "      <td>16</td>\n",
       "      <td>150.0</td>\n",
       "    </tr>\n",
       "    <tr>\n",
       "      <th>2</th>\n",
       "      <td>kenan</td>\n",
       "      <td>17</td>\n",
       "      <td>240.0</td>\n",
       "    </tr>\n",
       "    <tr>\n",
       "      <th>3</th>\n",
       "      <td>murat</td>\n",
       "      <td>33</td>\n",
       "      <td>350.0</td>\n",
       "    </tr>\n",
       "    <tr>\n",
       "      <th>4</th>\n",
       "      <td>ayse</td>\n",
       "      <td>45</td>\n",
       "      <td>110.0</td>\n",
       "    </tr>\n",
       "    <tr>\n",
       "      <th>5</th>\n",
       "      <td>hilal</td>\n",
       "      <td>66</td>\n",
       "      <td>220.0</td>\n",
       "    </tr>\n",
       "  </tbody>\n",
       "</table>\n",
       "</div>"
      ],
      "text/plain": [
       "    isim  yas   maas\n",
       "0    ali   15  100.0\n",
       "1   veli   16  150.0\n",
       "2  kenan   17  240.0\n",
       "3  murat   33  350.0\n",
       "4   ayse   45  110.0\n",
       "5  hilal   66  220.0"
      ]
     },
     "execution_count": 52,
     "metadata": {},
     "output_type": "execute_result"
    }
   ],
   "source": [
    "# veri.loc[0:2, 1]\n",
    "dictionary = {\"isim\": [\"ali\", \"veli\", \"kenan\", \"murat\", \"ayse\", \"hilal\"],\n",
    "              \"yas\": [15, 16, 17, 33, 45 , 66],\n",
    "              \"maas\": [100.0, 150.0, 240.0, 350.0, 110.0, 220.0]}\n",
    "veri=pd.DataFrame(dictionary)\n",
    "veri"
   ]
  },
  {
   "cell_type": "code",
   "execution_count": 53,
   "metadata": {},
   "outputs": [
    {
     "data": {
      "text/plain": [
       "0    15\n",
       "1    16\n",
       "Name: yas, dtype: int64"
      ]
     },
     "execution_count": 53,
     "metadata": {},
     "output_type": "execute_result"
    }
   ],
   "source": [
    "veri.iloc[0:2, 1]"
   ]
  },
  {
   "cell_type": "code",
   "execution_count": 54,
   "metadata": {},
   "outputs": [
    {
     "data": {
      "text/html": [
       "<div>\n",
       "<style scoped>\n",
       "    .dataframe tbody tr th:only-of-type {\n",
       "        vertical-align: middle;\n",
       "    }\n",
       "\n",
       "    .dataframe tbody tr th {\n",
       "        vertical-align: top;\n",
       "    }\n",
       "\n",
       "    .dataframe thead th {\n",
       "        text-align: right;\n",
       "    }\n",
       "</style>\n",
       "<table border=\"1\" class=\"dataframe\">\n",
       "  <thead>\n",
       "    <tr style=\"text-align: right;\">\n",
       "      <th></th>\n",
       "      <th>yas</th>\n",
       "      <th>maas</th>\n",
       "    </tr>\n",
       "  </thead>\n",
       "  <tbody>\n",
       "    <tr>\n",
       "      <th>2</th>\n",
       "      <td>17</td>\n",
       "      <td>240.0</td>\n",
       "    </tr>\n",
       "    <tr>\n",
       "      <th>4</th>\n",
       "      <td>45</td>\n",
       "      <td>110.0</td>\n",
       "    </tr>\n",
       "  </tbody>\n",
       "</table>\n",
       "</div>"
      ],
      "text/plain": [
       "   yas   maas\n",
       "2   17  240.0\n",
       "4   45  110.0"
      ]
     },
     "execution_count": 54,
     "metadata": {},
     "output_type": "execute_result"
    }
   ],
   "source": [
    "veri.iloc[[2,4], [1,2]]"
   ]
  },
  {
   "cell_type": "code",
   "execution_count": 55,
   "metadata": {},
   "outputs": [
    {
     "data": {
      "text/html": [
       "<div>\n",
       "<style scoped>\n",
       "    .dataframe tbody tr th:only-of-type {\n",
       "        vertical-align: middle;\n",
       "    }\n",
       "\n",
       "    .dataframe tbody tr th {\n",
       "        vertical-align: top;\n",
       "    }\n",
       "\n",
       "    .dataframe thead th {\n",
       "        text-align: right;\n",
       "    }\n",
       "</style>\n",
       "<table border=\"1\" class=\"dataframe\">\n",
       "  <thead>\n",
       "    <tr style=\"text-align: right;\">\n",
       "      <th></th>\n",
       "      <th>isim</th>\n",
       "      <th>yas</th>\n",
       "      <th>maas</th>\n",
       "    </tr>\n",
       "  </thead>\n",
       "  <tbody>\n",
       "    <tr>\n",
       "      <th>0</th>\n",
       "      <td>ali</td>\n",
       "      <td>15</td>\n",
       "      <td>100.0</td>\n",
       "    </tr>\n",
       "    <tr>\n",
       "      <th>1</th>\n",
       "      <td>veli</td>\n",
       "      <td>16</td>\n",
       "      <td>150.0</td>\n",
       "    </tr>\n",
       "    <tr>\n",
       "      <th>2</th>\n",
       "      <td>kenan</td>\n",
       "      <td>17</td>\n",
       "      <td>240.0</td>\n",
       "    </tr>\n",
       "    <tr>\n",
       "      <th>3</th>\n",
       "      <td>murat</td>\n",
       "      <td>33</td>\n",
       "      <td>350.0</td>\n",
       "    </tr>\n",
       "    <tr>\n",
       "      <th>4</th>\n",
       "      <td>ayse</td>\n",
       "      <td>45</td>\n",
       "      <td>110.0</td>\n",
       "    </tr>\n",
       "    <tr>\n",
       "      <th>5</th>\n",
       "      <td>hilal</td>\n",
       "      <td>66</td>\n",
       "      <td>220.0</td>\n",
       "    </tr>\n",
       "  </tbody>\n",
       "</table>\n",
       "</div>"
      ],
      "text/plain": [
       "    isim  yas   maas\n",
       "0    ali   15  100.0\n",
       "1   veli   16  150.0\n",
       "2  kenan   17  240.0\n",
       "3  murat   33  350.0\n",
       "4   ayse   45  110.0\n",
       "5  hilal   66  220.0"
      ]
     },
     "execution_count": 55,
     "metadata": {},
     "output_type": "execute_result"
    }
   ],
   "source": [
    "veri"
   ]
  },
  {
   "cell_type": "code",
   "execution_count": 56,
   "metadata": {},
   "outputs": [
    {
     "data": {
      "text/html": [
       "<div>\n",
       "<style scoped>\n",
       "    .dataframe tbody tr th:only-of-type {\n",
       "        vertical-align: middle;\n",
       "    }\n",
       "\n",
       "    .dataframe tbody tr th {\n",
       "        vertical-align: top;\n",
       "    }\n",
       "\n",
       "    .dataframe thead th {\n",
       "        text-align: right;\n",
       "    }\n",
       "</style>\n",
       "<table border=\"1\" class=\"dataframe\">\n",
       "  <thead>\n",
       "    <tr style=\"text-align: right;\">\n",
       "      <th></th>\n",
       "      <th>isim</th>\n",
       "      <th>yas</th>\n",
       "      <th>maas</th>\n",
       "      <th>maas2</th>\n",
       "    </tr>\n",
       "  </thead>\n",
       "  <tbody>\n",
       "    <tr>\n",
       "      <th>0</th>\n",
       "      <td>ali</td>\n",
       "      <td>15</td>\n",
       "      <td>100.0</td>\n",
       "      <td>110.0</td>\n",
       "    </tr>\n",
       "    <tr>\n",
       "      <th>1</th>\n",
       "      <td>veli</td>\n",
       "      <td>16</td>\n",
       "      <td>150.0</td>\n",
       "      <td>160.0</td>\n",
       "    </tr>\n",
       "    <tr>\n",
       "      <th>2</th>\n",
       "      <td>kenan</td>\n",
       "      <td>17</td>\n",
       "      <td>240.0</td>\n",
       "      <td>250.0</td>\n",
       "    </tr>\n",
       "    <tr>\n",
       "      <th>3</th>\n",
       "      <td>murat</td>\n",
       "      <td>33</td>\n",
       "      <td>350.0</td>\n",
       "      <td>360.0</td>\n",
       "    </tr>\n",
       "    <tr>\n",
       "      <th>4</th>\n",
       "      <td>ayse</td>\n",
       "      <td>45</td>\n",
       "      <td>110.0</td>\n",
       "      <td>120.0</td>\n",
       "    </tr>\n",
       "    <tr>\n",
       "      <th>5</th>\n",
       "      <td>hilal</td>\n",
       "      <td>66</td>\n",
       "      <td>220.0</td>\n",
       "      <td>230.0</td>\n",
       "    </tr>\n",
       "  </tbody>\n",
       "</table>\n",
       "</div>"
      ],
      "text/plain": [
       "    isim  yas   maas  maas2\n",
       "0    ali   15  100.0  110.0\n",
       "1   veli   16  150.0  160.0\n",
       "2  kenan   17  240.0  250.0\n",
       "3  murat   33  350.0  360.0\n",
       "4   ayse   45  110.0  120.0\n",
       "5  hilal   66  220.0  230.0"
      ]
     },
     "execution_count": 56,
     "metadata": {},
     "output_type": "execute_result"
    }
   ],
   "source": [
    "veri[\"maas2\"] = veri[\"maas\"] + 10\n",
    "veri"
   ]
  },
  {
   "cell_type": "code",
   "execution_count": 57,
   "metadata": {},
   "outputs": [
    {
     "data": {
      "text/plain": [
       "['isim', 'yas', 'maas', 'maas2']"
      ]
     },
     "execution_count": 57,
     "metadata": {},
     "output_type": "execute_result"
    }
   ],
   "source": [
    "cols = veri.columns.tolist()\n",
    "cols"
   ]
  },
  {
   "cell_type": "code",
   "execution_count": 58,
   "metadata": {},
   "outputs": [
    {
     "data": {
      "text/plain": [
       "3"
      ]
     },
     "execution_count": 58,
     "metadata": {},
     "output_type": "execute_result"
    }
   ],
   "source": [
    "maas2_index = cols.index('maas2')\n",
    "maas2_index"
   ]
  },
  {
   "cell_type": "code",
   "execution_count": 59,
   "metadata": {},
   "outputs": [
    {
     "data": {
      "text/plain": [
       "['isim', 'yas', 'maas']"
      ]
     },
     "execution_count": 59,
     "metadata": {},
     "output_type": "execute_result"
    }
   ],
   "source": [
    "cols.remove('maas2')\n",
    "cols"
   ]
  },
  {
   "cell_type": "code",
   "execution_count": 60,
   "metadata": {},
   "outputs": [],
   "source": [
    "cols.insert(1, 'maas2')  # maas2'yi yas'tan sonra ekleyin (index 2)\n"
   ]
  },
  {
   "cell_type": "code",
   "execution_count": 61,
   "metadata": {},
   "outputs": [
    {
     "data": {
      "text/plain": [
       "['isim', 'maas2', 'yas', 'maas']"
      ]
     },
     "execution_count": 61,
     "metadata": {},
     "output_type": "execute_result"
    }
   ],
   "source": [
    "cols"
   ]
  },
  {
   "cell_type": "code",
   "execution_count": 62,
   "metadata": {},
   "outputs": [],
   "source": [
    "veri = veri[cols]"
   ]
  },
  {
   "cell_type": "code",
   "execution_count": 63,
   "metadata": {},
   "outputs": [
    {
     "data": {
      "text/html": [
       "<div>\n",
       "<style scoped>\n",
       "    .dataframe tbody tr th:only-of-type {\n",
       "        vertical-align: middle;\n",
       "    }\n",
       "\n",
       "    .dataframe tbody tr th {\n",
       "        vertical-align: top;\n",
       "    }\n",
       "\n",
       "    .dataframe thead th {\n",
       "        text-align: right;\n",
       "    }\n",
       "</style>\n",
       "<table border=\"1\" class=\"dataframe\">\n",
       "  <thead>\n",
       "    <tr style=\"text-align: right;\">\n",
       "      <th></th>\n",
       "      <th>isim</th>\n",
       "      <th>maas2</th>\n",
       "      <th>yas</th>\n",
       "      <th>maas</th>\n",
       "    </tr>\n",
       "  </thead>\n",
       "  <tbody>\n",
       "    <tr>\n",
       "      <th>0</th>\n",
       "      <td>ali</td>\n",
       "      <td>110.0</td>\n",
       "      <td>15</td>\n",
       "      <td>100.0</td>\n",
       "    </tr>\n",
       "    <tr>\n",
       "      <th>1</th>\n",
       "      <td>veli</td>\n",
       "      <td>160.0</td>\n",
       "      <td>16</td>\n",
       "      <td>150.0</td>\n",
       "    </tr>\n",
       "    <tr>\n",
       "      <th>2</th>\n",
       "      <td>kenan</td>\n",
       "      <td>250.0</td>\n",
       "      <td>17</td>\n",
       "      <td>240.0</td>\n",
       "    </tr>\n",
       "    <tr>\n",
       "      <th>3</th>\n",
       "      <td>murat</td>\n",
       "      <td>360.0</td>\n",
       "      <td>33</td>\n",
       "      <td>350.0</td>\n",
       "    </tr>\n",
       "    <tr>\n",
       "      <th>4</th>\n",
       "      <td>ayse</td>\n",
       "      <td>120.0</td>\n",
       "      <td>45</td>\n",
       "      <td>110.0</td>\n",
       "    </tr>\n",
       "    <tr>\n",
       "      <th>5</th>\n",
       "      <td>hilal</td>\n",
       "      <td>230.0</td>\n",
       "      <td>66</td>\n",
       "      <td>220.0</td>\n",
       "    </tr>\n",
       "  </tbody>\n",
       "</table>\n",
       "</div>"
      ],
      "text/plain": [
       "    isim  maas2  yas   maas\n",
       "0    ali  110.0   15  100.0\n",
       "1   veli  160.0   16  150.0\n",
       "2  kenan  250.0   17  240.0\n",
       "3  murat  360.0   33  350.0\n",
       "4   ayse  120.0   45  110.0\n",
       "5  hilal  230.0   66  220.0"
      ]
     },
     "execution_count": 63,
     "metadata": {},
     "output_type": "execute_result"
    }
   ],
   "source": [
    "veri"
   ]
  },
  {
   "cell_type": "code",
   "execution_count": 64,
   "metadata": {},
   "outputs": [
    {
     "data": {
      "text/html": [
       "<div>\n",
       "<style scoped>\n",
       "    .dataframe tbody tr th:only-of-type {\n",
       "        vertical-align: middle;\n",
       "    }\n",
       "\n",
       "    .dataframe tbody tr th {\n",
       "        vertical-align: top;\n",
       "    }\n",
       "\n",
       "    .dataframe thead th {\n",
       "        text-align: right;\n",
       "    }\n",
       "</style>\n",
       "<table border=\"1\" class=\"dataframe\">\n",
       "  <thead>\n",
       "    <tr style=\"text-align: right;\">\n",
       "      <th></th>\n",
       "      <th>isim</th>\n",
       "      <th>yas</th>\n",
       "      <th>maas</th>\n",
       "    </tr>\n",
       "  </thead>\n",
       "  <tbody>\n",
       "    <tr>\n",
       "      <th>0</th>\n",
       "      <td>ali</td>\n",
       "      <td>15</td>\n",
       "      <td>100.0</td>\n",
       "    </tr>\n",
       "    <tr>\n",
       "      <th>1</th>\n",
       "      <td>veli</td>\n",
       "      <td>16</td>\n",
       "      <td>150.0</td>\n",
       "    </tr>\n",
       "    <tr>\n",
       "      <th>2</th>\n",
       "      <td>kenan</td>\n",
       "      <td>17</td>\n",
       "      <td>240.0</td>\n",
       "    </tr>\n",
       "    <tr>\n",
       "      <th>3</th>\n",
       "      <td>murat</td>\n",
       "      <td>33</td>\n",
       "      <td>350.0</td>\n",
       "    </tr>\n",
       "    <tr>\n",
       "      <th>4</th>\n",
       "      <td>ayse</td>\n",
       "      <td>45</td>\n",
       "      <td>110.0</td>\n",
       "    </tr>\n",
       "    <tr>\n",
       "      <th>5</th>\n",
       "      <td>hilal</td>\n",
       "      <td>66</td>\n",
       "      <td>220.0</td>\n",
       "    </tr>\n",
       "  </tbody>\n",
       "</table>\n",
       "</div>"
      ],
      "text/plain": [
       "    isim  yas   maas\n",
       "0    ali   15  100.0\n",
       "1   veli   16  150.0\n",
       "2  kenan   17  240.0\n",
       "3  murat   33  350.0\n",
       "4   ayse   45  110.0\n",
       "5  hilal   66  220.0"
      ]
     },
     "execution_count": 64,
     "metadata": {},
     "output_type": "execute_result"
    }
   ],
   "source": [
    "dictionary = {\"isim\": [\"ali\", \"veli\", \"kenan\", \"murat\", \"ayse\", \"hilal\"],\n",
    "              \"yas\": [15, 16, 17, 33, 45 , 66],\n",
    "              \"maas\": [100.0, 150.0, 240.0, 350.0, 110.0, 220.0]}\n",
    "veri=pd.DataFrame(dictionary)\n",
    "veri"
   ]
  },
  {
   "cell_type": "code",
   "execution_count": 65,
   "metadata": {},
   "outputs": [
    {
     "data": {
      "text/plain": [
       "'\\n1) murat\\t33\\n2) 45 110\\n   66 220\\n3) veli 45\\n'"
      ]
     },
     "execution_count": 65,
     "metadata": {},
     "output_type": "execute_result"
    }
   ],
   "source": [
    "dictionary = {\"isim\": [\"ali\", \"veli\", \"kenan\", \"murat\", \"ayse\", \"hilal\"],\n",
    "              \"yas\": [15, 16, 17, 33, 45 , 66],\n",
    "              \"maas\": [100.0, 150.0, 240.0, 350.0, 110.0, 220.0]}\n",
    "veri=pd.DataFrame(dictionary)\n",
    "veri\n",
    "\"\"\"\n",
    "1) murat\t33\n",
    "2) 45 110\n",
    "   66 220\n",
    "3) veli 45\n",
    "\"\"\""
   ]
  },
  {
   "cell_type": "code",
   "execution_count": 66,
   "metadata": {},
   "outputs": [
    {
     "name": "stdout",
     "output_type": "stream",
     "text": [
      "isim    murat\n",
      "yas        33\n",
      "Name: 3, dtype: object\n",
      "   yas   maas\n",
      "4   45  110.0\n",
      "5   66  220.0\n",
      "veli 45\n",
      "isim    murat\n",
      "yas        33\n",
      "Name: 3, dtype: object\n",
      "   yas   maas\n",
      "4   45  110.0\n",
      "5   66  220.0\n",
      "veli 45\n"
     ]
    }
   ],
   "source": [
    "\n",
    "# Iloc ile\n",
    "print(veri.iloc[3, 0:2]) # 1.sorunun cevabı.\n",
    "print(veri.iloc[4:, 1:3]) # 2.sorunun cevabı.\n",
    "print(veri.iloc[1, 0], veri.iloc[4, 1]) # 3.Sorunun cevabı\n",
    "\n",
    "print(veri.loc[3, \"isim\":\"yas\"]) # 1.sorunun cevabı.\n",
    "print(veri.loc[4:, \"yas\":\"maas\"]) # 2.sorunun cevabı.\n",
    "print(veri.loc[1, \"isim\"], veri.loc[4, \"yas\"]) # 3.Sorunun cevabı"
   ]
  },
  {
   "cell_type": "code",
   "execution_count": 67,
   "metadata": {},
   "outputs": [
    {
     "name": "stdout",
     "output_type": "stream",
     "text": [
      "isim    murat\n",
      "yas        33\n",
      "Name: 3, dtype: object\n",
      "   yas   maas\n",
      "4   45  110.0\n",
      "5   66  220.0\n",
      "veli 45\n"
     ]
    }
   ],
   "source": [
    "print(veri.loc[3,\"isim\":\"yas\"])\n",
    "print(veri.loc[4:5,\"yas\":\"maas\"])\n",
    "print(veri.loc[1,\"isim\"],veri.loc[4,\"yas\"])"
   ]
  },
  {
   "cell_type": "code",
   "execution_count": 68,
   "metadata": {},
   "outputs": [
    {
     "data": {
      "text/html": [
       "<div>\n",
       "<style scoped>\n",
       "    .dataframe tbody tr th:only-of-type {\n",
       "        vertical-align: middle;\n",
       "    }\n",
       "\n",
       "    .dataframe tbody tr th {\n",
       "        vertical-align: top;\n",
       "    }\n",
       "\n",
       "    .dataframe thead th {\n",
       "        text-align: right;\n",
       "    }\n",
       "</style>\n",
       "<table border=\"1\" class=\"dataframe\">\n",
       "  <thead>\n",
       "    <tr style=\"text-align: right;\">\n",
       "      <th></th>\n",
       "      <th>isim</th>\n",
       "      <th>yas</th>\n",
       "      <th>sehir</th>\n",
       "    </tr>\n",
       "  </thead>\n",
       "  <tbody>\n",
       "    <tr>\n",
       "      <th>0</th>\n",
       "      <td>ali</td>\n",
       "      <td>15</td>\n",
       "      <td>izmir</td>\n",
       "    </tr>\n",
       "    <tr>\n",
       "      <th>1</th>\n",
       "      <td>veli</td>\n",
       "      <td>16</td>\n",
       "      <td>ankara</td>\n",
       "    </tr>\n",
       "    <tr>\n",
       "      <th>2</th>\n",
       "      <td>kenan</td>\n",
       "      <td>17</td>\n",
       "      <td>konya</td>\n",
       "    </tr>\n",
       "    <tr>\n",
       "      <th>3</th>\n",
       "      <td>murat</td>\n",
       "      <td>33</td>\n",
       "      <td>ankara</td>\n",
       "    </tr>\n",
       "    <tr>\n",
       "      <th>4</th>\n",
       "      <td>ayse</td>\n",
       "      <td>45</td>\n",
       "      <td>ankara</td>\n",
       "    </tr>\n",
       "    <tr>\n",
       "      <th>5</th>\n",
       "      <td>hilal</td>\n",
       "      <td>66</td>\n",
       "      <td>antalya</td>\n",
       "    </tr>\n",
       "  </tbody>\n",
       "</table>\n",
       "</div>"
      ],
      "text/plain": [
       "    isim  yas    sehir\n",
       "0    ali   15    izmir\n",
       "1   veli   16   ankara\n",
       "2  kenan   17    konya\n",
       "3  murat   33   ankara\n",
       "4   ayse   45   ankara\n",
       "5  hilal   66  antalya"
      ]
     },
     "execution_count": 68,
     "metadata": {},
     "output_type": "execute_result"
    }
   ],
   "source": [
    "dictionary = {\"isim\": [\"ali\", \"veli\", \"kenan\", \"murat\", \"ayse\", \"hilal\"],\n",
    "              \"yas\": [15, 16, 17, 33, 45 , 66],\n",
    "              \"sehir\": [\"izmir\", \"ankara\", \"konya\", \"ankara\", \"ankara\",\"antalya\"]}\n",
    "veri=pd.DataFrame(dictionary)\n",
    "veri"
   ]
  },
  {
   "cell_type": "code",
   "execution_count": 69,
   "metadata": {},
   "outputs": [
    {
     "data": {
      "text/plain": [
       "0    False\n",
       "1    False\n",
       "2    False\n",
       "3     True\n",
       "4     True\n",
       "5     True\n",
       "Name: yas, dtype: bool"
      ]
     },
     "execution_count": 69,
     "metadata": {},
     "output_type": "execute_result"
    }
   ],
   "source": [
    "filtre1 = veri[\"yas\"] > 22\n",
    "filtre1"
   ]
  },
  {
   "cell_type": "code",
   "execution_count": 70,
   "metadata": {},
   "outputs": [
    {
     "data": {
      "text/html": [
       "<div>\n",
       "<style scoped>\n",
       "    .dataframe tbody tr th:only-of-type {\n",
       "        vertical-align: middle;\n",
       "    }\n",
       "\n",
       "    .dataframe tbody tr th {\n",
       "        vertical-align: top;\n",
       "    }\n",
       "\n",
       "    .dataframe thead th {\n",
       "        text-align: right;\n",
       "    }\n",
       "</style>\n",
       "<table border=\"1\" class=\"dataframe\">\n",
       "  <thead>\n",
       "    <tr style=\"text-align: right;\">\n",
       "      <th></th>\n",
       "      <th>isim</th>\n",
       "      <th>yas</th>\n",
       "      <th>sehir</th>\n",
       "    </tr>\n",
       "  </thead>\n",
       "  <tbody>\n",
       "    <tr>\n",
       "      <th>3</th>\n",
       "      <td>murat</td>\n",
       "      <td>33</td>\n",
       "      <td>ankara</td>\n",
       "    </tr>\n",
       "    <tr>\n",
       "      <th>4</th>\n",
       "      <td>ayse</td>\n",
       "      <td>45</td>\n",
       "      <td>ankara</td>\n",
       "    </tr>\n",
       "    <tr>\n",
       "      <th>5</th>\n",
       "      <td>hilal</td>\n",
       "      <td>66</td>\n",
       "      <td>antalya</td>\n",
       "    </tr>\n",
       "  </tbody>\n",
       "</table>\n",
       "</div>"
      ],
      "text/plain": [
       "    isim  yas    sehir\n",
       "3  murat   33   ankara\n",
       "4   ayse   45   ankara\n",
       "5  hilal   66  antalya"
      ]
     },
     "execution_count": 70,
     "metadata": {},
     "output_type": "execute_result"
    }
   ],
   "source": [
    "filtrelenmis_veri = veri[filtre1]\n",
    "filtrelenmis_veri"
   ]
  },
  {
   "cell_type": "code",
   "execution_count": 152,
   "metadata": {},
   "outputs": [
    {
     "data": {
      "text/html": [
       "<div>\n",
       "<style scoped>\n",
       "    .dataframe tbody tr th:only-of-type {\n",
       "        vertical-align: middle;\n",
       "    }\n",
       "\n",
       "    .dataframe tbody tr th {\n",
       "        vertical-align: top;\n",
       "    }\n",
       "\n",
       "    .dataframe thead th {\n",
       "        text-align: right;\n",
       "    }\n",
       "</style>\n",
       "<table border=\"1\" class=\"dataframe\">\n",
       "  <thead>\n",
       "    <tr style=\"text-align: right;\">\n",
       "      <th></th>\n",
       "      <th>isim</th>\n",
       "      <th>yas</th>\n",
       "      <th>sehir</th>\n",
       "    </tr>\n",
       "  </thead>\n",
       "  <tbody>\n",
       "    <tr>\n",
       "      <th>1</th>\n",
       "      <td>veli</td>\n",
       "      <td>16</td>\n",
       "      <td>ankara</td>\n",
       "    </tr>\n",
       "    <tr>\n",
       "      <th>3</th>\n",
       "      <td>murat</td>\n",
       "      <td>33</td>\n",
       "      <td>ankara</td>\n",
       "    </tr>\n",
       "    <tr>\n",
       "      <th>4</th>\n",
       "      <td>ayse</td>\n",
       "      <td>45</td>\n",
       "      <td>ankara</td>\n",
       "    </tr>\n",
       "  </tbody>\n",
       "</table>\n",
       "</div>"
      ],
      "text/plain": [
       "    isim  yas   sehir\n",
       "1   veli   16  ankara\n",
       "3  murat   33  ankara\n",
       "4   ayse   45  ankara"
      ]
     },
     "execution_count": 152,
     "metadata": {},
     "output_type": "execute_result"
    }
   ],
   "source": [
    "filtre2 = veri[\"sehir\"] == \"ankara\"\n",
    "veri[filtre2]"
   ]
  },
  {
   "cell_type": "code",
   "execution_count": 153,
   "metadata": {},
   "outputs": [
    {
     "data": {
      "text/html": [
       "<div>\n",
       "<style scoped>\n",
       "    .dataframe tbody tr th:only-of-type {\n",
       "        vertical-align: middle;\n",
       "    }\n",
       "\n",
       "    .dataframe tbody tr th {\n",
       "        vertical-align: top;\n",
       "    }\n",
       "\n",
       "    .dataframe thead th {\n",
       "        text-align: right;\n",
       "    }\n",
       "</style>\n",
       "<table border=\"1\" class=\"dataframe\">\n",
       "  <thead>\n",
       "    <tr style=\"text-align: right;\">\n",
       "      <th></th>\n",
       "      <th>isim</th>\n",
       "      <th>yas</th>\n",
       "      <th>sehir</th>\n",
       "    </tr>\n",
       "  </thead>\n",
       "  <tbody>\n",
       "    <tr>\n",
       "      <th>3</th>\n",
       "      <td>murat</td>\n",
       "      <td>33</td>\n",
       "      <td>ankara</td>\n",
       "    </tr>\n",
       "    <tr>\n",
       "      <th>4</th>\n",
       "      <td>ayse</td>\n",
       "      <td>45</td>\n",
       "      <td>ankara</td>\n",
       "    </tr>\n",
       "  </tbody>\n",
       "</table>\n",
       "</div>"
      ],
      "text/plain": [
       "    isim  yas   sehir\n",
       "3  murat   33  ankara\n",
       "4   ayse   45  ankara"
      ]
     },
     "execution_count": 153,
     "metadata": {},
     "output_type": "execute_result"
    }
   ],
   "source": [
    "veri[filtre1 & filtre2]"
   ]
  },
  {
   "cell_type": "code",
   "execution_count": 154,
   "metadata": {},
   "outputs": [
    {
     "data": {
      "text/html": [
       "<div>\n",
       "<style scoped>\n",
       "    .dataframe tbody tr th:only-of-type {\n",
       "        vertical-align: middle;\n",
       "    }\n",
       "\n",
       "    .dataframe tbody tr th {\n",
       "        vertical-align: top;\n",
       "    }\n",
       "\n",
       "    .dataframe thead th {\n",
       "        text-align: right;\n",
       "    }\n",
       "</style>\n",
       "<table border=\"1\" class=\"dataframe\">\n",
       "  <thead>\n",
       "    <tr style=\"text-align: right;\">\n",
       "      <th></th>\n",
       "      <th>isim</th>\n",
       "      <th>yas</th>\n",
       "      <th>sehir</th>\n",
       "    </tr>\n",
       "  </thead>\n",
       "  <tbody>\n",
       "    <tr>\n",
       "      <th>0</th>\n",
       "      <td>ali</td>\n",
       "      <td>15</td>\n",
       "      <td>izmir</td>\n",
       "    </tr>\n",
       "    <tr>\n",
       "      <th>1</th>\n",
       "      <td>veli</td>\n",
       "      <td>16</td>\n",
       "      <td>ankara</td>\n",
       "    </tr>\n",
       "    <tr>\n",
       "      <th>2</th>\n",
       "      <td>kenan</td>\n",
       "      <td>17</td>\n",
       "      <td>konya</td>\n",
       "    </tr>\n",
       "    <tr>\n",
       "      <th>3</th>\n",
       "      <td>murat</td>\n",
       "      <td>33</td>\n",
       "      <td>ankara</td>\n",
       "    </tr>\n",
       "    <tr>\n",
       "      <th>4</th>\n",
       "      <td>ayse</td>\n",
       "      <td>45</td>\n",
       "      <td>ankara</td>\n",
       "    </tr>\n",
       "    <tr>\n",
       "      <th>5</th>\n",
       "      <td>hilal</td>\n",
       "      <td>66</td>\n",
       "      <td>antalya</td>\n",
       "    </tr>\n",
       "  </tbody>\n",
       "</table>\n",
       "</div>"
      ],
      "text/plain": [
       "    isim  yas    sehir\n",
       "0    ali   15    izmir\n",
       "1   veli   16   ankara\n",
       "2  kenan   17    konya\n",
       "3  murat   33   ankara\n",
       "4   ayse   45   ankara\n",
       "5  hilal   66  antalya"
      ]
     },
     "execution_count": 154,
     "metadata": {},
     "output_type": "execute_result"
    }
   ],
   "source": [
    "veri"
   ]
  },
  {
   "cell_type": "code",
   "execution_count": 155,
   "metadata": {},
   "outputs": [
    {
     "data": {
      "text/html": [
       "<div>\n",
       "<style scoped>\n",
       "    .dataframe tbody tr th:only-of-type {\n",
       "        vertical-align: middle;\n",
       "    }\n",
       "\n",
       "    .dataframe tbody tr th {\n",
       "        vertical-align: top;\n",
       "    }\n",
       "\n",
       "    .dataframe thead th {\n",
       "        text-align: right;\n",
       "    }\n",
       "</style>\n",
       "<table border=\"1\" class=\"dataframe\">\n",
       "  <thead>\n",
       "    <tr style=\"text-align: right;\">\n",
       "      <th></th>\n",
       "      <th>isim</th>\n",
       "      <th>yas</th>\n",
       "      <th>sehir</th>\n",
       "    </tr>\n",
       "  </thead>\n",
       "  <tbody>\n",
       "    <tr>\n",
       "      <th>0</th>\n",
       "      <td>ali</td>\n",
       "      <td>15</td>\n",
       "      <td>izmir</td>\n",
       "    </tr>\n",
       "  </tbody>\n",
       "</table>\n",
       "</div>"
      ],
      "text/plain": [
       "  isim  yas  sehir\n",
       "0  ali   15  izmir"
      ]
     },
     "execution_count": 155,
     "metadata": {},
     "output_type": "execute_result"
    }
   ],
   "source": [
    "filtre3 = veri[\"isim\"] == \"ali\"\n",
    "veri[filtre3]"
   ]
  },
  {
   "cell_type": "code",
   "execution_count": 156,
   "metadata": {},
   "outputs": [
    {
     "data": {
      "text/plain": [
       "0    False\n",
       "1    False\n",
       "2    False\n",
       "3     True\n",
       "4     True\n",
       "5    False\n",
       "dtype: bool"
      ]
     },
     "execution_count": 156,
     "metadata": {},
     "output_type": "execute_result"
    }
   ],
   "source": [
    "np.bitwise_and(veri[\"sehir\"] == \"ankara\", veri[\"yas\"] > 22)"
   ]
  },
  {
   "cell_type": "code",
   "execution_count": 160,
   "metadata": {},
   "outputs": [
    {
     "data": {
      "text/html": [
       "<div>\n",
       "<style scoped>\n",
       "    .dataframe tbody tr th:only-of-type {\n",
       "        vertical-align: middle;\n",
       "    }\n",
       "\n",
       "    .dataframe tbody tr th {\n",
       "        vertical-align: top;\n",
       "    }\n",
       "\n",
       "    .dataframe thead th {\n",
       "        text-align: right;\n",
       "    }\n",
       "</style>\n",
       "<table border=\"1\" class=\"dataframe\">\n",
       "  <thead>\n",
       "    <tr style=\"text-align: right;\">\n",
       "      <th></th>\n",
       "      <th>isim</th>\n",
       "      <th>yas</th>\n",
       "      <th>sehir</th>\n",
       "    </tr>\n",
       "  </thead>\n",
       "  <tbody>\n",
       "    <tr>\n",
       "      <th>0</th>\n",
       "      <td>ali</td>\n",
       "      <td>15</td>\n",
       "      <td>izmir</td>\n",
       "    </tr>\n",
       "    <tr>\n",
       "      <th>1</th>\n",
       "      <td>veli</td>\n",
       "      <td>16</td>\n",
       "      <td>ankara</td>\n",
       "    </tr>\n",
       "    <tr>\n",
       "      <th>2</th>\n",
       "      <td>kenan</td>\n",
       "      <td>17</td>\n",
       "      <td>konya</td>\n",
       "    </tr>\n",
       "    <tr>\n",
       "      <th>3</th>\n",
       "      <td>murat</td>\n",
       "      <td>33</td>\n",
       "      <td>ankara</td>\n",
       "    </tr>\n",
       "    <tr>\n",
       "      <th>4</th>\n",
       "      <td>ayse</td>\n",
       "      <td>45</td>\n",
       "      <td>ankara</td>\n",
       "    </tr>\n",
       "    <tr>\n",
       "      <th>5</th>\n",
       "      <td>hilal</td>\n",
       "      <td>66</td>\n",
       "      <td>antalya</td>\n",
       "    </tr>\n",
       "  </tbody>\n",
       "</table>\n",
       "</div>"
      ],
      "text/plain": [
       "    isim  yas    sehir\n",
       "0    ali   15    izmir\n",
       "1   veli   16   ankara\n",
       "2  kenan   17    konya\n",
       "3  murat   33   ankara\n",
       "4   ayse   45   ankara\n",
       "5  hilal   66  antalya"
      ]
     },
     "execution_count": 160,
     "metadata": {},
     "output_type": "execute_result"
    }
   ],
   "source": [
    "dictionary = {\"isim\": [\"ali\", \"veli\", \"kenan\", \"murat\", \"ayse\", \"hilal\"],\n",
    "              \"yas\": [15, 16, 17, 33, 45 , 66],\n",
    "              \"sehir\": [\"izmir\", \"ankara\", \"konya\", \"ankara\", \"ankara\",\"antalya\"]}\n",
    "veri=pd.DataFrame(dictionary)\n",
    "veri\n"
   ]
  },
  {
   "cell_type": "code",
   "execution_count": null,
   "metadata": {},
   "outputs": [],
   "source": [
    "\"\"\"\n",
    "1) yeni sutun: maas sutunu ekle\n",
    "2) yeni sutun: yas/maas orani sutunu ekle\n",
    "3) yas/maas sutunu icin ortalamayi print ettir\n",
    "4) ankarada yasayanlarin ortalama yasini bul\n",
    "5) ankarada yasayanlarin icinden en yuksek maas alani bul\n",
    "\"\"\""
   ]
  },
  {
   "cell_type": "code",
   "execution_count": 167,
   "metadata": {},
   "outputs": [
    {
     "data": {
      "text/html": [
       "<div>\n",
       "<style scoped>\n",
       "    .dataframe tbody tr th:only-of-type {\n",
       "        vertical-align: middle;\n",
       "    }\n",
       "\n",
       "    .dataframe tbody tr th {\n",
       "        vertical-align: top;\n",
       "    }\n",
       "\n",
       "    .dataframe thead th {\n",
       "        text-align: right;\n",
       "    }\n",
       "</style>\n",
       "<table border=\"1\" class=\"dataframe\">\n",
       "  <thead>\n",
       "    <tr style=\"text-align: right;\">\n",
       "      <th></th>\n",
       "      <th>isim</th>\n",
       "      <th>yas</th>\n",
       "      <th>sehir</th>\n",
       "      <th>ulke</th>\n",
       "      <th>maas</th>\n",
       "    </tr>\n",
       "  </thead>\n",
       "  <tbody>\n",
       "    <tr>\n",
       "      <th>0</th>\n",
       "      <td>ali</td>\n",
       "      <td>15</td>\n",
       "      <td>izmir</td>\n",
       "      <td>turkiye</td>\n",
       "      <td>100</td>\n",
       "    </tr>\n",
       "    <tr>\n",
       "      <th>1</th>\n",
       "      <td>veli</td>\n",
       "      <td>16</td>\n",
       "      <td>ankara</td>\n",
       "      <td>turkiye</td>\n",
       "      <td>200</td>\n",
       "    </tr>\n",
       "    <tr>\n",
       "      <th>2</th>\n",
       "      <td>kenan</td>\n",
       "      <td>17</td>\n",
       "      <td>konya</td>\n",
       "      <td>turkiye</td>\n",
       "      <td>300</td>\n",
       "    </tr>\n",
       "    <tr>\n",
       "      <th>3</th>\n",
       "      <td>murat</td>\n",
       "      <td>33</td>\n",
       "      <td>ankara</td>\n",
       "      <td>turkiye</td>\n",
       "      <td>400</td>\n",
       "    </tr>\n",
       "    <tr>\n",
       "      <th>4</th>\n",
       "      <td>ayse</td>\n",
       "      <td>45</td>\n",
       "      <td>ankara</td>\n",
       "      <td>turkiye</td>\n",
       "      <td>500</td>\n",
       "    </tr>\n",
       "    <tr>\n",
       "      <th>5</th>\n",
       "      <td>hilal</td>\n",
       "      <td>66</td>\n",
       "      <td>antalya</td>\n",
       "      <td>turkiye</td>\n",
       "      <td>600</td>\n",
       "    </tr>\n",
       "  </tbody>\n",
       "</table>\n",
       "</div>"
      ],
      "text/plain": [
       "    isim  yas    sehir     ulke  maas\n",
       "0    ali   15    izmir  turkiye   100\n",
       "1   veli   16   ankara  turkiye   200\n",
       "2  kenan   17    konya  turkiye   300\n",
       "3  murat   33   ankara  turkiye   400\n",
       "4   ayse   45   ankara  turkiye   500\n",
       "5  hilal   66  antalya  turkiye   600"
      ]
     },
     "execution_count": 167,
     "metadata": {},
     "output_type": "execute_result"
    }
   ],
   "source": [
    "veri[\"maas\"] = [100,200,300,400,500,600]\n",
    "veri"
   ]
  },
  {
   "cell_type": "code",
   "execution_count": 173,
   "metadata": {},
   "outputs": [
    {
     "data": {
      "text/html": [
       "<div>\n",
       "<style scoped>\n",
       "    .dataframe tbody tr th:only-of-type {\n",
       "        vertical-align: middle;\n",
       "    }\n",
       "\n",
       "    .dataframe tbody tr th {\n",
       "        vertical-align: top;\n",
       "    }\n",
       "\n",
       "    .dataframe thead th {\n",
       "        text-align: right;\n",
       "    }\n",
       "</style>\n",
       "<table border=\"1\" class=\"dataframe\">\n",
       "  <thead>\n",
       "    <tr style=\"text-align: right;\">\n",
       "      <th></th>\n",
       "      <th>isim</th>\n",
       "      <th>yas</th>\n",
       "      <th>sehir</th>\n",
       "      <th>ulke</th>\n",
       "      <th>maas</th>\n",
       "      <th>yas_maas</th>\n",
       "    </tr>\n",
       "  </thead>\n",
       "  <tbody>\n",
       "    <tr>\n",
       "      <th>0</th>\n",
       "      <td>ali</td>\n",
       "      <td>15</td>\n",
       "      <td>izmir</td>\n",
       "      <td>turkiye</td>\n",
       "      <td>100</td>\n",
       "      <td>0.150000</td>\n",
       "    </tr>\n",
       "    <tr>\n",
       "      <th>1</th>\n",
       "      <td>veli</td>\n",
       "      <td>16</td>\n",
       "      <td>ankara</td>\n",
       "      <td>turkiye</td>\n",
       "      <td>200</td>\n",
       "      <td>0.080000</td>\n",
       "    </tr>\n",
       "    <tr>\n",
       "      <th>2</th>\n",
       "      <td>kenan</td>\n",
       "      <td>17</td>\n",
       "      <td>konya</td>\n",
       "      <td>turkiye</td>\n",
       "      <td>300</td>\n",
       "      <td>0.056667</td>\n",
       "    </tr>\n",
       "    <tr>\n",
       "      <th>3</th>\n",
       "      <td>murat</td>\n",
       "      <td>33</td>\n",
       "      <td>ankara</td>\n",
       "      <td>turkiye</td>\n",
       "      <td>400</td>\n",
       "      <td>0.082500</td>\n",
       "    </tr>\n",
       "    <tr>\n",
       "      <th>4</th>\n",
       "      <td>ayse</td>\n",
       "      <td>45</td>\n",
       "      <td>ankara</td>\n",
       "      <td>turkiye</td>\n",
       "      <td>500</td>\n",
       "      <td>0.090000</td>\n",
       "    </tr>\n",
       "    <tr>\n",
       "      <th>5</th>\n",
       "      <td>hilal</td>\n",
       "      <td>66</td>\n",
       "      <td>antalya</td>\n",
       "      <td>turkiye</td>\n",
       "      <td>600</td>\n",
       "      <td>0.110000</td>\n",
       "    </tr>\n",
       "  </tbody>\n",
       "</table>\n",
       "</div>"
      ],
      "text/plain": [
       "    isim  yas    sehir     ulke  maas  yas_maas\n",
       "0    ali   15    izmir  turkiye   100  0.150000\n",
       "1   veli   16   ankara  turkiye   200  0.080000\n",
       "2  kenan   17    konya  turkiye   300  0.056667\n",
       "3  murat   33   ankara  turkiye   400  0.082500\n",
       "4   ayse   45   ankara  turkiye   500  0.090000\n",
       "5  hilal   66  antalya  turkiye   600  0.110000"
      ]
     },
     "execution_count": 173,
     "metadata": {},
     "output_type": "execute_result"
    }
   ],
   "source": [
    "veri[\"yas_maas\"] = veri[\"yas\"] / veri[\"maas\"]\n",
    "veri"
   ]
  },
  {
   "cell_type": "code",
   "execution_count": 174,
   "metadata": {},
   "outputs": [
    {
     "data": {
      "text/plain": [
       "0.0948611111111111"
      ]
     },
     "execution_count": 174,
     "metadata": {},
     "output_type": "execute_result"
    }
   ],
   "source": [
    "np.mean(veri[\"yas_maas\"])"
   ]
  },
  {
   "cell_type": "code",
   "execution_count": 175,
   "metadata": {},
   "outputs": [
    {
     "data": {
      "text/html": [
       "<div>\n",
       "<style scoped>\n",
       "    .dataframe tbody tr th:only-of-type {\n",
       "        vertical-align: middle;\n",
       "    }\n",
       "\n",
       "    .dataframe tbody tr th {\n",
       "        vertical-align: top;\n",
       "    }\n",
       "\n",
       "    .dataframe thead th {\n",
       "        text-align: right;\n",
       "    }\n",
       "</style>\n",
       "<table border=\"1\" class=\"dataframe\">\n",
       "  <thead>\n",
       "    <tr style=\"text-align: right;\">\n",
       "      <th></th>\n",
       "      <th>isim</th>\n",
       "      <th>yas</th>\n",
       "      <th>sehir</th>\n",
       "      <th>ulke</th>\n",
       "      <th>maas</th>\n",
       "      <th>yas_maas</th>\n",
       "    </tr>\n",
       "  </thead>\n",
       "  <tbody>\n",
       "    <tr>\n",
       "      <th>0</th>\n",
       "      <td>ali</td>\n",
       "      <td>15</td>\n",
       "      <td>izmir</td>\n",
       "      <td>turkiye</td>\n",
       "      <td>100</td>\n",
       "      <td>0.150000</td>\n",
       "    </tr>\n",
       "    <tr>\n",
       "      <th>1</th>\n",
       "      <td>veli</td>\n",
       "      <td>16</td>\n",
       "      <td>ankara</td>\n",
       "      <td>turkiye</td>\n",
       "      <td>200</td>\n",
       "      <td>0.080000</td>\n",
       "    </tr>\n",
       "    <tr>\n",
       "      <th>2</th>\n",
       "      <td>kenan</td>\n",
       "      <td>17</td>\n",
       "      <td>konya</td>\n",
       "      <td>turkiye</td>\n",
       "      <td>300</td>\n",
       "      <td>0.056667</td>\n",
       "    </tr>\n",
       "    <tr>\n",
       "      <th>3</th>\n",
       "      <td>murat</td>\n",
       "      <td>33</td>\n",
       "      <td>ankara</td>\n",
       "      <td>turkiye</td>\n",
       "      <td>400</td>\n",
       "      <td>0.082500</td>\n",
       "    </tr>\n",
       "    <tr>\n",
       "      <th>4</th>\n",
       "      <td>ayse</td>\n",
       "      <td>45</td>\n",
       "      <td>ankara</td>\n",
       "      <td>turkiye</td>\n",
       "      <td>500</td>\n",
       "      <td>0.090000</td>\n",
       "    </tr>\n",
       "    <tr>\n",
       "      <th>5</th>\n",
       "      <td>hilal</td>\n",
       "      <td>66</td>\n",
       "      <td>antalya</td>\n",
       "      <td>turkiye</td>\n",
       "      <td>600</td>\n",
       "      <td>0.110000</td>\n",
       "    </tr>\n",
       "  </tbody>\n",
       "</table>\n",
       "</div>"
      ],
      "text/plain": [
       "    isim  yas    sehir     ulke  maas  yas_maas\n",
       "0    ali   15    izmir  turkiye   100  0.150000\n",
       "1   veli   16   ankara  turkiye   200  0.080000\n",
       "2  kenan   17    konya  turkiye   300  0.056667\n",
       "3  murat   33   ankara  turkiye   400  0.082500\n",
       "4   ayse   45   ankara  turkiye   500  0.090000\n",
       "5  hilal   66  antalya  turkiye   600  0.110000"
      ]
     },
     "execution_count": 175,
     "metadata": {},
     "output_type": "execute_result"
    }
   ],
   "source": [
    "veri[\"ulke\"] = [\"turkiye\"]*len(veri)\n",
    "veri"
   ]
  },
  {
   "cell_type": "code",
   "execution_count": 176,
   "metadata": {},
   "outputs": [
    {
     "data": {
      "text/html": [
       "<div>\n",
       "<style scoped>\n",
       "    .dataframe tbody tr th:only-of-type {\n",
       "        vertical-align: middle;\n",
       "    }\n",
       "\n",
       "    .dataframe tbody tr th {\n",
       "        vertical-align: top;\n",
       "    }\n",
       "\n",
       "    .dataframe thead th {\n",
       "        text-align: right;\n",
       "    }\n",
       "</style>\n",
       "<table border=\"1\" class=\"dataframe\">\n",
       "  <thead>\n",
       "    <tr style=\"text-align: right;\">\n",
       "      <th></th>\n",
       "      <th>isim</th>\n",
       "      <th>yas</th>\n",
       "      <th>sehir</th>\n",
       "      <th>ulke</th>\n",
       "      <th>maas</th>\n",
       "      <th>yas_maas</th>\n",
       "    </tr>\n",
       "  </thead>\n",
       "  <tbody>\n",
       "    <tr>\n",
       "      <th>1</th>\n",
       "      <td>veli</td>\n",
       "      <td>16</td>\n",
       "      <td>ankara</td>\n",
       "      <td>turkiye</td>\n",
       "      <td>200</td>\n",
       "      <td>0.0800</td>\n",
       "    </tr>\n",
       "    <tr>\n",
       "      <th>3</th>\n",
       "      <td>murat</td>\n",
       "      <td>33</td>\n",
       "      <td>ankara</td>\n",
       "      <td>turkiye</td>\n",
       "      <td>400</td>\n",
       "      <td>0.0825</td>\n",
       "    </tr>\n",
       "    <tr>\n",
       "      <th>4</th>\n",
       "      <td>ayse</td>\n",
       "      <td>45</td>\n",
       "      <td>ankara</td>\n",
       "      <td>turkiye</td>\n",
       "      <td>500</td>\n",
       "      <td>0.0900</td>\n",
       "    </tr>\n",
       "  </tbody>\n",
       "</table>\n",
       "</div>"
      ],
      "text/plain": [
       "    isim  yas   sehir     ulke  maas  yas_maas\n",
       "1   veli   16  ankara  turkiye   200    0.0800\n",
       "3  murat   33  ankara  turkiye   400    0.0825\n",
       "4   ayse   45  ankara  turkiye   500    0.0900"
      ]
     },
     "execution_count": 176,
     "metadata": {},
     "output_type": "execute_result"
    }
   ],
   "source": [
    "# 4) ankarada yasayanlarin ortalama yasini bul\n",
    "ankarada_yasayanlar = veri[veri[\"sehir\"] == \"ankara\"]\n",
    "ankarada_yasayanlar"
   ]
  },
  {
   "cell_type": "code",
   "execution_count": 177,
   "metadata": {},
   "outputs": [
    {
     "data": {
      "text/plain": [
       "1    16\n",
       "3    33\n",
       "4    45\n",
       "Name: yas, dtype: int64"
      ]
     },
     "execution_count": 177,
     "metadata": {},
     "output_type": "execute_result"
    }
   ],
   "source": [
    "# 4) ankarada yasayanlarin ortalama yasini bul\n",
    "ankarada_yasayanlar_yas = ankarada_yasayanlar[\"yas\"]\n",
    "ankarada_yasayanlar_yas"
   ]
  },
  {
   "cell_type": "code",
   "execution_count": 182,
   "metadata": {},
   "outputs": [
    {
     "data": {
      "text/plain": [
       "31.333333333333332"
      ]
     },
     "execution_count": 182,
     "metadata": {},
     "output_type": "execute_result"
    }
   ],
   "source": [
    "# 4) ankarada yasayanlarin ortalama yasini bul\n",
    "ort = np.mean(ankarada_yasayanlar_yas)\n",
    "ort"
   ]
  },
  {
   "cell_type": "code",
   "execution_count": 179,
   "metadata": {},
   "outputs": [
    {
     "data": {
      "text/plain": [
       "500"
      ]
     },
     "execution_count": 179,
     "metadata": {},
     "output_type": "execute_result"
    }
   ],
   "source": [
    "veri[veri[\"sehir\"] == \"ankara\"][\"maas\"].max()\n"
   ]
  },
  {
   "cell_type": "code",
   "execution_count": 183,
   "metadata": {},
   "outputs": [
    {
     "data": {
      "text/html": [
       "<div>\n",
       "<style scoped>\n",
       "    .dataframe tbody tr th:only-of-type {\n",
       "        vertical-align: middle;\n",
       "    }\n",
       "\n",
       "    .dataframe tbody tr th {\n",
       "        vertical-align: top;\n",
       "    }\n",
       "\n",
       "    .dataframe thead th {\n",
       "        text-align: right;\n",
       "    }\n",
       "</style>\n",
       "<table border=\"1\" class=\"dataframe\">\n",
       "  <thead>\n",
       "    <tr style=\"text-align: right;\">\n",
       "      <th></th>\n",
       "      <th>isim</th>\n",
       "      <th>yas</th>\n",
       "      <th>sehir</th>\n",
       "      <th>ulke</th>\n",
       "      <th>maas</th>\n",
       "      <th>yas_maas</th>\n",
       "    </tr>\n",
       "  </thead>\n",
       "  <tbody>\n",
       "    <tr>\n",
       "      <th>1</th>\n",
       "      <td>veli</td>\n",
       "      <td>16</td>\n",
       "      <td>ankara</td>\n",
       "      <td>turkiye</td>\n",
       "      <td>200</td>\n",
       "      <td>0.0800</td>\n",
       "    </tr>\n",
       "    <tr>\n",
       "      <th>3</th>\n",
       "      <td>murat</td>\n",
       "      <td>33</td>\n",
       "      <td>ankara</td>\n",
       "      <td>turkiye</td>\n",
       "      <td>400</td>\n",
       "      <td>0.0825</td>\n",
       "    </tr>\n",
       "    <tr>\n",
       "      <th>4</th>\n",
       "      <td>ayse</td>\n",
       "      <td>45</td>\n",
       "      <td>ankara</td>\n",
       "      <td>turkiye</td>\n",
       "      <td>500</td>\n",
       "      <td>0.0900</td>\n",
       "    </tr>\n",
       "  </tbody>\n",
       "</table>\n",
       "</div>"
      ],
      "text/plain": [
       "    isim  yas   sehir     ulke  maas  yas_maas\n",
       "1   veli   16  ankara  turkiye   200    0.0800\n",
       "3  murat   33  ankara  turkiye   400    0.0825\n",
       "4   ayse   45  ankara  turkiye   500    0.0900"
      ]
     },
     "execution_count": 183,
     "metadata": {},
     "output_type": "execute_result"
    }
   ],
   "source": [
    "# 5) ankarada yasayanlarin icinden en yuksek maas alani bul\n",
    "ankarada_yasayanlar = veri[veri[\"sehir\"] == \"ankara\"]\n",
    "ankarada_yasayanlar"
   ]
  },
  {
   "cell_type": "code",
   "execution_count": 184,
   "metadata": {},
   "outputs": [
    {
     "data": {
      "text/plain": [
       "1    200\n",
       "3    400\n",
       "4    500\n",
       "Name: maas, dtype: int64"
      ]
     },
     "execution_count": 184,
     "metadata": {},
     "output_type": "execute_result"
    }
   ],
   "source": [
    "# 5) ankarada yasayanlarin icinden en yuksek maas alani bul\n",
    "ankarada_yasayanlar_maas = ankarada_yasayanlar[\"maas\"]\n",
    "ankarada_yasayanlar_maas"
   ]
  },
  {
   "cell_type": "code",
   "execution_count": 185,
   "metadata": {},
   "outputs": [
    {
     "data": {
      "text/plain": [
       "500"
      ]
     },
     "execution_count": 185,
     "metadata": {},
     "output_type": "execute_result"
    }
   ],
   "source": [
    "# 5) ankarada yasayanlarin icinden en yuksek maas alani bul\n",
    "\n",
    "np.max(ankarada_yasayanlar_maas)\n"
   ]
  },
  {
   "cell_type": "code",
   "execution_count": 192,
   "metadata": {},
   "outputs": [
    {
     "data": {
      "text/html": [
       "<div>\n",
       "<style scoped>\n",
       "    .dataframe tbody tr th:only-of-type {\n",
       "        vertical-align: middle;\n",
       "    }\n",
       "\n",
       "    .dataframe tbody tr th {\n",
       "        vertical-align: top;\n",
       "    }\n",
       "\n",
       "    .dataframe thead th {\n",
       "        text-align: right;\n",
       "    }\n",
       "</style>\n",
       "<table border=\"1\" class=\"dataframe\">\n",
       "  <thead>\n",
       "    <tr style=\"text-align: right;\">\n",
       "      <th></th>\n",
       "      <th>isim</th>\n",
       "      <th>yas</th>\n",
       "      <th>sehir</th>\n",
       "      <th>ulke</th>\n",
       "      <th>maas</th>\n",
       "      <th>yas_maas</th>\n",
       "    </tr>\n",
       "  </thead>\n",
       "  <tbody>\n",
       "    <tr>\n",
       "      <th>1</th>\n",
       "      <td>veli</td>\n",
       "      <td>16</td>\n",
       "      <td>ankara</td>\n",
       "      <td>turkiye</td>\n",
       "      <td>200</td>\n",
       "      <td>0.0800</td>\n",
       "    </tr>\n",
       "    <tr>\n",
       "      <th>3</th>\n",
       "      <td>murat</td>\n",
       "      <td>33</td>\n",
       "      <td>ankara</td>\n",
       "      <td>turkiye</td>\n",
       "      <td>400</td>\n",
       "      <td>0.0825</td>\n",
       "    </tr>\n",
       "    <tr>\n",
       "      <th>4</th>\n",
       "      <td>ayse</td>\n",
       "      <td>45</td>\n",
       "      <td>ankara</td>\n",
       "      <td>turkiye</td>\n",
       "      <td>500</td>\n",
       "      <td>0.0900</td>\n",
       "    </tr>\n",
       "  </tbody>\n",
       "</table>\n",
       "</div>"
      ],
      "text/plain": [
       "    isim  yas   sehir     ulke  maas  yas_maas\n",
       "1   veli   16  ankara  turkiye   200    0.0800\n",
       "3  murat   33  ankara  turkiye   400    0.0825\n",
       "4   ayse   45  ankara  turkiye   500    0.0900"
      ]
     },
     "execution_count": 192,
     "metadata": {},
     "output_type": "execute_result"
    }
   ],
   "source": [
    "# maximum maasi alanin adini bulalim\n",
    "ankarada_yasayanlar"
   ]
  },
  {
   "cell_type": "code",
   "execution_count": 193,
   "metadata": {},
   "outputs": [
    {
     "data": {
      "text/html": [
       "<div>\n",
       "<style scoped>\n",
       "    .dataframe tbody tr th:only-of-type {\n",
       "        vertical-align: middle;\n",
       "    }\n",
       "\n",
       "    .dataframe tbody tr th {\n",
       "        vertical-align: top;\n",
       "    }\n",
       "\n",
       "    .dataframe thead th {\n",
       "        text-align: right;\n",
       "    }\n",
       "</style>\n",
       "<table border=\"1\" class=\"dataframe\">\n",
       "  <thead>\n",
       "    <tr style=\"text-align: right;\">\n",
       "      <th></th>\n",
       "      <th>isim</th>\n",
       "      <th>yas</th>\n",
       "      <th>sehir</th>\n",
       "      <th>ulke</th>\n",
       "      <th>maas</th>\n",
       "      <th>yas_maas</th>\n",
       "    </tr>\n",
       "  </thead>\n",
       "  <tbody>\n",
       "    <tr>\n",
       "      <th>0</th>\n",
       "      <td>veli</td>\n",
       "      <td>16</td>\n",
       "      <td>ankara</td>\n",
       "      <td>turkiye</td>\n",
       "      <td>200</td>\n",
       "      <td>0.0800</td>\n",
       "    </tr>\n",
       "    <tr>\n",
       "      <th>1</th>\n",
       "      <td>murat</td>\n",
       "      <td>33</td>\n",
       "      <td>ankara</td>\n",
       "      <td>turkiye</td>\n",
       "      <td>400</td>\n",
       "      <td>0.0825</td>\n",
       "    </tr>\n",
       "    <tr>\n",
       "      <th>2</th>\n",
       "      <td>ayse</td>\n",
       "      <td>45</td>\n",
       "      <td>ankara</td>\n",
       "      <td>turkiye</td>\n",
       "      <td>500</td>\n",
       "      <td>0.0900</td>\n",
       "    </tr>\n",
       "  </tbody>\n",
       "</table>\n",
       "</div>"
      ],
      "text/plain": [
       "    isim  yas   sehir     ulke  maas  yas_maas\n",
       "0   veli   16  ankara  turkiye   200    0.0800\n",
       "1  murat   33  ankara  turkiye   400    0.0825\n",
       "2   ayse   45  ankara  turkiye   500    0.0900"
      ]
     },
     "execution_count": 193,
     "metadata": {},
     "output_type": "execute_result"
    }
   ],
   "source": [
    "ankarada_yasayanlar.reset_index(drop=True, inplace=True)\n",
    "ankarada_yasayanlar"
   ]
  },
  {
   "cell_type": "code",
   "execution_count": 188,
   "metadata": {},
   "outputs": [
    {
     "data": {
      "text/plain": [
       "31.333333333333332"
      ]
     },
     "execution_count": 188,
     "metadata": {},
     "output_type": "execute_result"
    }
   ],
   "source": [
    "veri[veri[\"sehir\"]==\"Ankara\"][\"yas\"].mean()\n"
   ]
  },
  {
   "cell_type": "code",
   "execution_count": 194,
   "metadata": {},
   "outputs": [
    {
     "data": {
      "text/html": [
       "<div>\n",
       "<style scoped>\n",
       "    .dataframe tbody tr th:only-of-type {\n",
       "        vertical-align: middle;\n",
       "    }\n",
       "\n",
       "    .dataframe tbody tr th {\n",
       "        vertical-align: top;\n",
       "    }\n",
       "\n",
       "    .dataframe thead th {\n",
       "        text-align: right;\n",
       "    }\n",
       "</style>\n",
       "<table border=\"1\" class=\"dataframe\">\n",
       "  <thead>\n",
       "    <tr style=\"text-align: right;\">\n",
       "      <th></th>\n",
       "      <th>isim</th>\n",
       "      <th>yas</th>\n",
       "      <th>sehir</th>\n",
       "      <th>ulke</th>\n",
       "      <th>maas</th>\n",
       "      <th>yas_maas</th>\n",
       "    </tr>\n",
       "  </thead>\n",
       "  <tbody>\n",
       "    <tr>\n",
       "      <th>0</th>\n",
       "      <td>veli</td>\n",
       "      <td>16</td>\n",
       "      <td>ankara</td>\n",
       "      <td>turkiye</td>\n",
       "      <td>200</td>\n",
       "      <td>0.0800</td>\n",
       "    </tr>\n",
       "    <tr>\n",
       "      <th>1</th>\n",
       "      <td>murat</td>\n",
       "      <td>33</td>\n",
       "      <td>ankara</td>\n",
       "      <td>turkiye</td>\n",
       "      <td>400</td>\n",
       "      <td>0.0825</td>\n",
       "    </tr>\n",
       "    <tr>\n",
       "      <th>2</th>\n",
       "      <td>ayse</td>\n",
       "      <td>45</td>\n",
       "      <td>ankara</td>\n",
       "      <td>turkiye</td>\n",
       "      <td>500</td>\n",
       "      <td>0.0900</td>\n",
       "    </tr>\n",
       "  </tbody>\n",
       "</table>\n",
       "</div>"
      ],
      "text/plain": [
       "    isim  yas   sehir     ulke  maas  yas_maas\n",
       "0   veli   16  ankara  turkiye   200    0.0800\n",
       "1  murat   33  ankara  turkiye   400    0.0825\n",
       "2   ayse   45  ankara  turkiye   500    0.0900"
      ]
     },
     "execution_count": 194,
     "metadata": {},
     "output_type": "execute_result"
    }
   ],
   "source": [
    "# maximum maasi alanin adini bulalim\n",
    "ankarada_yasayanlar"
   ]
  },
  {
   "cell_type": "code",
   "execution_count": null,
   "metadata": {},
   "outputs": [],
   "source": [
    "\"\"\"\n",
    "for dongusu kullanarak maximum maas alanin ismini bulalim\n",
    "\"\"\""
   ]
  },
  {
   "cell_type": "code",
   "execution_count": 195,
   "metadata": {},
   "outputs": [
    {
     "name": "stdout",
     "output_type": "stream",
     "text": [
      "ayse\n"
     ]
    }
   ],
   "source": [
    "\"\"\"\n",
    "for dongusu kullanarak maximum maas alanin ismini bulalim\n",
    "\"\"\"\n",
    "maks_maas = 0\n",
    "maks_isim = \"\"\n",
    "for i in range(len(ankarada_yasayanlar)):\n",
    "    if ankarada_yasayanlar[\"maas\"][i] > maks_maas:\n",
    "        maks_maas = ankarada_yasayanlar[\"maas\"][i]\n",
    "        maks_isim = ankarada_yasayanlar[\"isim\"][i]\n",
    "\n",
    "print(maks_isim)"
   ]
  },
  {
   "cell_type": "code",
   "execution_count": 196,
   "metadata": {},
   "outputs": [
    {
     "data": {
      "text/plain": [
       "'ayse'"
      ]
     },
     "execution_count": 196,
     "metadata": {},
     "output_type": "execute_result"
    }
   ],
   "source": [
    "ankarada_yasayanlar.loc[ankarada_yasayanlar[\"maas\"].idxmax(), \"isim\"]"
   ]
  }
 ],
 "metadata": {
  "colab": {
   "provenance": []
  },
  "kernelspec": {
   "display_name": "Python 3 (ipykernel)",
   "language": "python",
   "name": "python3"
  },
  "language_info": {
   "codemirror_mode": {
    "name": "ipython",
    "version": 3
   },
   "file_extension": ".py",
   "mimetype": "text/x-python",
   "name": "python",
   "nbconvert_exporter": "python",
   "pygments_lexer": "ipython3",
   "version": "3.12.6"
  }
 },
 "nbformat": 4,
 "nbformat_minor": 4
}
